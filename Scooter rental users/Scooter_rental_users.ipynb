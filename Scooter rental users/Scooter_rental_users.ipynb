{
 "cells": [
  {
   "cell_type": "markdown",
   "id": "361686a6",
   "metadata": {},
   "source": [
    "### Исследование пользователей сервиса аренды самокатов GoFast"
   ]
  },
  {
   "cell_type": "markdown",
   "id": "1de6a84a",
   "metadata": {},
   "source": [
    "#### Введение\n",
    "\n",
    "У нас есть данные о пользовании арендой самокатов GoFast. Исследуем данные и сравним две группы пользователей - тех, кто пользуется платной подпиской и нет. \n",
    "\n",
    "Сначала проведем первичную обработку данных, посмотрим на основные параметры поездки - дистанцию, время, распрделение пользователей по городам.\n",
    "\n",
    "Далее проверим несколько гипотез:\n",
    "1. проверим, различается ли длительность поездки у пользователей с подпиской и без. \n",
    "2. посмотрим, будет ли помесячная выручка от пользователей с подпиской по месяцам выше, чем выручка от пользователей без подписки. \n",
    "3. также посмотрим на среднее расстояние одной поездки среди пользователей с подпиской.\n",
    "\n",
    "Проверка гипотез поможет определить, \"выгодны\" ли компании пользователи с платной подпиской. Если это так, посмотрим, что нужно сделать для привлечения большего количества пользователей, готовых платить за полписку, какие параметры рассылок и промоакций будут эффективными."
   ]
  },
  {
   "cell_type": "markdown",
   "id": "4adad522",
   "metadata": {},
   "source": [
    "#### Шаг 1. Загрузка данных"
   ]
  },
  {
   "cell_type": "markdown",
   "id": "76fa6375",
   "metadata": {},
   "source": [
    "У нас есть три файла с данными о пользовании самокатами GoFast. Откроем каждый файл и сохраним в отдельные переменнные, изучим общую информацию о каждом файле."
   ]
  },
  {
   "cell_type": "markdown",
   "id": "ddfe6272",
   "metadata": {},
   "source": [
    "##### Пользователи\n",
    "\n",
    "Создадим датафрейм 'users' с данными о пользователях сервиса."
   ]
  },
  {
   "cell_type": "code",
   "execution_count": 1,
   "id": "dead18a7",
   "metadata": {},
   "outputs": [],
   "source": [
    "import pandas as pd\n",
    "import matplotlib.pyplot as plt\n",
    "import numpy as np\n",
    "from math import sqrt\n",
    "from math import factorial\n",
    "from scipy import stats as st"
   ]
  },
  {
   "cell_type": "code",
   "execution_count": 2,
   "id": "fc4bf7bd",
   "metadata": {},
   "outputs": [
    {
     "data": {
      "text/html": [
       "<div>\n",
       "<style scoped>\n",
       "    .dataframe tbody tr th:only-of-type {\n",
       "        vertical-align: middle;\n",
       "    }\n",
       "\n",
       "    .dataframe tbody tr th {\n",
       "        vertical-align: top;\n",
       "    }\n",
       "\n",
       "    .dataframe thead th {\n",
       "        text-align: right;\n",
       "    }\n",
       "</style>\n",
       "<table border=\"1\" class=\"dataframe\">\n",
       "  <thead>\n",
       "    <tr style=\"text-align: right;\">\n",
       "      <th></th>\n",
       "      <th>user_id</th>\n",
       "      <th>name</th>\n",
       "      <th>age</th>\n",
       "      <th>city</th>\n",
       "      <th>subscription_type</th>\n",
       "    </tr>\n",
       "  </thead>\n",
       "  <tbody>\n",
       "    <tr>\n",
       "      <th>0</th>\n",
       "      <td>1</td>\n",
       "      <td>Кира</td>\n",
       "      <td>22</td>\n",
       "      <td>Тюмень</td>\n",
       "      <td>ultra</td>\n",
       "    </tr>\n",
       "    <tr>\n",
       "      <th>1</th>\n",
       "      <td>2</td>\n",
       "      <td>Станислав</td>\n",
       "      <td>31</td>\n",
       "      <td>Омск</td>\n",
       "      <td>ultra</td>\n",
       "    </tr>\n",
       "    <tr>\n",
       "      <th>2</th>\n",
       "      <td>3</td>\n",
       "      <td>Алексей</td>\n",
       "      <td>20</td>\n",
       "      <td>Москва</td>\n",
       "      <td>ultra</td>\n",
       "    </tr>\n",
       "    <tr>\n",
       "      <th>3</th>\n",
       "      <td>4</td>\n",
       "      <td>Константин</td>\n",
       "      <td>26</td>\n",
       "      <td>Ростов-на-Дону</td>\n",
       "      <td>ultra</td>\n",
       "    </tr>\n",
       "    <tr>\n",
       "      <th>4</th>\n",
       "      <td>5</td>\n",
       "      <td>Адель</td>\n",
       "      <td>28</td>\n",
       "      <td>Омск</td>\n",
       "      <td>ultra</td>\n",
       "    </tr>\n",
       "  </tbody>\n",
       "</table>\n",
       "</div>"
      ],
      "text/plain": [
       "   user_id        name  age            city subscription_type\n",
       "0        1        Кира   22          Тюмень             ultra\n",
       "1        2   Станислав   31            Омск             ultra\n",
       "2        3     Алексей   20          Москва             ultra\n",
       "3        4  Константин   26  Ростов-на-Дону             ultra\n",
       "4        5       Адель   28            Омск             ultra"
      ]
     },
     "execution_count": 2,
     "metadata": {},
     "output_type": "execute_result"
    }
   ],
   "source": [
    "users = pd.read_csv('/datasets/users_go.csv', sep=',')\n",
    "users.head()"
   ]
  },
  {
   "cell_type": "code",
   "execution_count": 3,
   "id": "92eef84b",
   "metadata": {},
   "outputs": [
    {
     "name": "stdout",
     "output_type": "stream",
     "text": [
      "<class 'pandas.core.frame.DataFrame'>\n",
      "RangeIndex: 1565 entries, 0 to 1564\n",
      "Data columns (total 5 columns):\n",
      " #   Column             Non-Null Count  Dtype \n",
      "---  ------             --------------  ----- \n",
      " 0   user_id            1565 non-null   int64 \n",
      " 1   name               1565 non-null   object\n",
      " 2   age                1565 non-null   int64 \n",
      " 3   city               1565 non-null   object\n",
      " 4   subscription_type  1565 non-null   object\n",
      "dtypes: int64(2), object(3)\n",
      "memory usage: 61.3+ KB\n"
     ]
    }
   ],
   "source": [
    "users.info()"
   ]
  },
  {
   "cell_type": "markdown",
   "id": "4889923f",
   "metadata": {},
   "source": [
    "В базе данных содержится информация о 1565 пользователях сервиса аренды самокатов. Их уникальный идентификатор пользователя (user_id), имя, возраст, город и тип подписки (без подписки (free) или с подпиской (ultra)). Пропущенных значений в базе данных нет."
   ]
  },
  {
   "cell_type": "markdown",
   "id": "880b8845",
   "metadata": {},
   "source": [
    "##### Поездки\n",
    "\n",
    "Создадим датафрейм 'rides' с данными о поездках пользователей сервиса аренды самокатов."
   ]
  },
  {
   "cell_type": "code",
   "execution_count": 4,
   "id": "809af0ae",
   "metadata": {},
   "outputs": [
    {
     "data": {
      "text/html": [
       "<div>\n",
       "<style scoped>\n",
       "    .dataframe tbody tr th:only-of-type {\n",
       "        vertical-align: middle;\n",
       "    }\n",
       "\n",
       "    .dataframe tbody tr th {\n",
       "        vertical-align: top;\n",
       "    }\n",
       "\n",
       "    .dataframe thead th {\n",
       "        text-align: right;\n",
       "    }\n",
       "</style>\n",
       "<table border=\"1\" class=\"dataframe\">\n",
       "  <thead>\n",
       "    <tr style=\"text-align: right;\">\n",
       "      <th></th>\n",
       "      <th>user_id</th>\n",
       "      <th>distance</th>\n",
       "      <th>duration</th>\n",
       "      <th>date</th>\n",
       "    </tr>\n",
       "  </thead>\n",
       "  <tbody>\n",
       "    <tr>\n",
       "      <th>0</th>\n",
       "      <td>1</td>\n",
       "      <td>4409.919140</td>\n",
       "      <td>25.599769</td>\n",
       "      <td>2021-01-01</td>\n",
       "    </tr>\n",
       "    <tr>\n",
       "      <th>1</th>\n",
       "      <td>1</td>\n",
       "      <td>2617.592153</td>\n",
       "      <td>15.816871</td>\n",
       "      <td>2021-01-18</td>\n",
       "    </tr>\n",
       "    <tr>\n",
       "      <th>2</th>\n",
       "      <td>1</td>\n",
       "      <td>754.159807</td>\n",
       "      <td>6.232113</td>\n",
       "      <td>2021-04-20</td>\n",
       "    </tr>\n",
       "    <tr>\n",
       "      <th>3</th>\n",
       "      <td>1</td>\n",
       "      <td>2694.783254</td>\n",
       "      <td>18.511000</td>\n",
       "      <td>2021-08-11</td>\n",
       "    </tr>\n",
       "    <tr>\n",
       "      <th>4</th>\n",
       "      <td>1</td>\n",
       "      <td>4028.687306</td>\n",
       "      <td>26.265803</td>\n",
       "      <td>2021-08-28</td>\n",
       "    </tr>\n",
       "  </tbody>\n",
       "</table>\n",
       "</div>"
      ],
      "text/plain": [
       "   user_id     distance   duration        date\n",
       "0        1  4409.919140  25.599769  2021-01-01\n",
       "1        1  2617.592153  15.816871  2021-01-18\n",
       "2        1   754.159807   6.232113  2021-04-20\n",
       "3        1  2694.783254  18.511000  2021-08-11\n",
       "4        1  4028.687306  26.265803  2021-08-28"
      ]
     },
     "execution_count": 4,
     "metadata": {},
     "output_type": "execute_result"
    }
   ],
   "source": [
    "rides = pd.read_csv('/datasets/rides_go.csv', sep=',')\n",
    "rides.head()"
   ]
  },
  {
   "cell_type": "code",
   "execution_count": 5,
   "id": "16e23c7c",
   "metadata": {},
   "outputs": [
    {
     "name": "stdout",
     "output_type": "stream",
     "text": [
      "<class 'pandas.core.frame.DataFrame'>\n",
      "RangeIndex: 18068 entries, 0 to 18067\n",
      "Data columns (total 4 columns):\n",
      " #   Column    Non-Null Count  Dtype  \n",
      "---  ------    --------------  -----  \n",
      " 0   user_id   18068 non-null  int64  \n",
      " 1   distance  18068 non-null  float64\n",
      " 2   duration  18068 non-null  float64\n",
      " 3   date      18068 non-null  object \n",
      "dtypes: float64(2), int64(1), object(1)\n",
      "memory usage: 564.8+ KB\n"
     ]
    }
   ],
   "source": [
    "rides.info()"
   ]
  },
  {
   "cell_type": "markdown",
   "id": "d72cef20",
   "metadata": {},
   "source": [
    "В данных содержится информация о 18068 поездках пользователей сервиса аренды самокатов: уникальный идентификатор пользователя (user_id), данные о расстоянии, которое пользователь проехал в текущей поездке, ее длительность и  дата поездки. Пропущенных значений в базе данных нет."
   ]
  },
  {
   "cell_type": "markdown",
   "id": "110429f1",
   "metadata": {},
   "source": [
    "##### Подписки\n",
    "\n",
    "Создадим датафрейм 'subscriptions' с данными о подписках разного типа."
   ]
  },
  {
   "cell_type": "code",
   "execution_count": 6,
   "id": "e322741a",
   "metadata": {},
   "outputs": [
    {
     "data": {
      "text/html": [
       "<div>\n",
       "<style scoped>\n",
       "    .dataframe tbody tr th:only-of-type {\n",
       "        vertical-align: middle;\n",
       "    }\n",
       "\n",
       "    .dataframe tbody tr th {\n",
       "        vertical-align: top;\n",
       "    }\n",
       "\n",
       "    .dataframe thead th {\n",
       "        text-align: right;\n",
       "    }\n",
       "</style>\n",
       "<table border=\"1\" class=\"dataframe\">\n",
       "  <thead>\n",
       "    <tr style=\"text-align: right;\">\n",
       "      <th></th>\n",
       "      <th>subscription_type</th>\n",
       "      <th>minute_price</th>\n",
       "      <th>start_ride_price</th>\n",
       "      <th>subscription_fee</th>\n",
       "    </tr>\n",
       "  </thead>\n",
       "  <tbody>\n",
       "    <tr>\n",
       "      <th>0</th>\n",
       "      <td>free</td>\n",
       "      <td>8</td>\n",
       "      <td>50</td>\n",
       "      <td>0</td>\n",
       "    </tr>\n",
       "    <tr>\n",
       "      <th>1</th>\n",
       "      <td>ultra</td>\n",
       "      <td>6</td>\n",
       "      <td>0</td>\n",
       "      <td>199</td>\n",
       "    </tr>\n",
       "  </tbody>\n",
       "</table>\n",
       "</div>"
      ],
      "text/plain": [
       "  subscription_type  minute_price  start_ride_price  subscription_fee\n",
       "0              free             8                50                 0\n",
       "1             ultra             6                 0               199"
      ]
     },
     "execution_count": 6,
     "metadata": {},
     "output_type": "execute_result"
    }
   ],
   "source": [
    "subscriptions = pd.read_csv('/datasets/subscriptions_go.csv', sep=',')\n",
    "subscriptions.head()"
   ]
  },
  {
   "cell_type": "code",
   "execution_count": 7,
   "id": "cfa6cbee",
   "metadata": {},
   "outputs": [
    {
     "name": "stdout",
     "output_type": "stream",
     "text": [
      "<class 'pandas.core.frame.DataFrame'>\n",
      "RangeIndex: 2 entries, 0 to 1\n",
      "Data columns (total 4 columns):\n",
      " #   Column             Non-Null Count  Dtype \n",
      "---  ------             --------------  ----- \n",
      " 0   subscription_type  2 non-null      object\n",
      " 1   minute_price       2 non-null      int64 \n",
      " 2   start_ride_price   2 non-null      int64 \n",
      " 3   subscription_fee   2 non-null      int64 \n",
      "dtypes: int64(3), object(1)\n",
      "memory usage: 192.0+ bytes\n"
     ]
    }
   ],
   "source": [
    "subscriptions.info()"
   ]
  },
  {
   "cell_type": "markdown",
   "id": "3ce8a8aa",
   "metadata": {},
   "source": [
    "Эта небольшая база данных с двумя строками содержит информацию о характеристиках тарифов без подписки и с подпиской Ultra. В ней указана стоимость одной минуты поездки, стоимость старта (начала поездки) и стоимость абонентской платы. Пропущенных значений в базе данных нет."
   ]
  },
  {
   "cell_type": "markdown",
   "id": "fa4d3739",
   "metadata": {},
   "source": [
    "При первом взгляде на данне мы выяснили, что три базы имеют разное количество наблюдений. Самая маленькая база - база с данными о полписках. Самая большая - база с данными о совершенных поездках - на каждого пользователя может приходится более одной поездки.\n",
    "Данные о пользователях и о совершенных ими поездках можно соединить, используя общий столбец с user_id. К данным о пользователях можно добавить информацию о подписке, которая сейчас у них - по столбцу с данными subscription_type.\n",
    "Три базы данных не содержат пропущенных значений."
   ]
  },
  {
   "cell_type": "markdown",
   "id": "883c1e1a",
   "metadata": {},
   "source": [
    "#### Шаг 2. Предобработка данных"
   ]
  },
  {
   "cell_type": "markdown",
   "id": "b73e90fd",
   "metadata": {},
   "source": [
    "##### Изменение типа данных\n",
    "\n",
    "В предыдущем пункте посмотрели общую инфориацию о данных. Можно заметить, что не все переменные имеют подходящий тип. Например, переменная date из базы про поездки записана как строковая переменная. Исправим ее тип на тип \"дата\"."
   ]
  },
  {
   "cell_type": "code",
   "execution_count": 8,
   "id": "b2e33f11",
   "metadata": {},
   "outputs": [
    {
     "name": "stdout",
     "output_type": "stream",
     "text": [
      "<class 'pandas.core.frame.DataFrame'>\n",
      "RangeIndex: 18068 entries, 0 to 18067\n",
      "Data columns (total 4 columns):\n",
      " #   Column    Non-Null Count  Dtype         \n",
      "---  ------    --------------  -----         \n",
      " 0   user_id   18068 non-null  int64         \n",
      " 1   distance  18068 non-null  float64       \n",
      " 2   duration  18068 non-null  float64       \n",
      " 3   date      18068 non-null  datetime64[ns]\n",
      "dtypes: datetime64[ns](1), float64(2), int64(1)\n",
      "memory usage: 564.8 KB\n"
     ]
    }
   ],
   "source": [
    "rides['date'] = pd.to_datetime(rides['date'], format= '%Y-%m-%d')\n",
    "rides.info()"
   ]
  },
  {
   "cell_type": "markdown",
   "id": "fd5a1fea",
   "metadata": {},
   "source": [
    "Согласно таблице info о базе данных, тип перменной изменился на тот, который нужен. "
   ]
  },
  {
   "cell_type": "markdown",
   "id": "fad34001",
   "metadata": {},
   "source": [
    "##### Добавим новые столбцы\n",
    "\n",
    "Создадим новый столбец в базе данных о поездках, куда запишем номер месяца на основе столбца 'date'. "
   ]
  },
  {
   "cell_type": "code",
   "execution_count": 9,
   "id": "e581f602",
   "metadata": {},
   "outputs": [],
   "source": [
    "rides['date_month'] = pd.DatetimeIndex(rides['date']).month"
   ]
  },
  {
   "cell_type": "markdown",
   "id": "47a69c38",
   "metadata": {},
   "source": [
    "Создадим новый столбец в базе данных о поездках, куда запишем год на основе столбца 'date'."
   ]
  },
  {
   "cell_type": "code",
   "execution_count": 10,
   "id": "890cf5ad",
   "metadata": {},
   "outputs": [],
   "source": [
    "rides['date_year'] = pd.DatetimeIndex(rides['date']).year"
   ]
  },
  {
   "cell_type": "markdown",
   "id": "f6f3d13b",
   "metadata": {},
   "source": [
    "##### Временные рамки исследования\n",
    "\n",
    "Посмотрим, за какой период есть данные в базе. Данные касаются только 2021 года, с января по декабрь."
   ]
  },
  {
   "cell_type": "code",
   "execution_count": 11,
   "id": "16e4cc98",
   "metadata": {},
   "outputs": [
    {
     "data": {
      "text/plain": [
       "Text(0.5, 0, 'порядковый номер месяца')"
      ]
     },
     "execution_count": 11,
     "metadata": {},
     "output_type": "execute_result"
    },
    {
     "data": {
      "image/png": "[encoded data removed]",
      "text/plain": [
       "<Figure size 432x288 with 1 Axes>"
      ]
     },
     "metadata": {
      "needs_background": "light"
     },
     "output_type": "display_data"
    }
   ],
   "source": [
    "rides['date_year'].value_counts()\n",
    "rides.groupby('date_month')['date_month'].count().sort_values(ascending=False).plot(kind='bar', title = 'Месяцы аренды')\n",
    "plt.xlabel(\"порядковый номер месяца\")"
   ]
  },
  {
   "cell_type": "markdown",
   "id": "74ac62dc",
   "metadata": {},
   "source": [
    "##### Пропущенные значения и дубликаты\n",
    "\n",
    "В предыдущем разделе выяснили, что пропущенных значений в трех базах данных нет. Проверим наличие в них явных дубликатов."
   ]
  },
  {
   "cell_type": "code",
   "execution_count": 12,
   "id": "04af9b28",
   "metadata": {},
   "outputs": [
    {
     "name": "stdout",
     "output_type": "stream",
     "text": [
      "31\n",
      "0\n",
      "0\n"
     ]
    }
   ],
   "source": [
    "print(users.duplicated().sum())\n",
    "print(rides.duplicated().sum())\n",
    "print(subscriptions.duplicated().sum())"
   ]
  },
  {
   "cell_type": "markdown",
   "id": "08e0ef25",
   "metadata": {},
   "source": [
    "В базе пользователей есть 31 полностью продублированная строчка. Удалим дубликаты."
   ]
  },
  {
   "cell_type": "code",
   "execution_count": 13,
   "id": "4e62fc85",
   "metadata": {},
   "outputs": [
    {
     "data": {
      "text/plain": [
       "1       1\n",
       "5       1\n",
       "6       1\n",
       "7       1\n",
       "8       1\n",
       "       ..\n",
       "1532    1\n",
       "1533    1\n",
       "1524    1\n",
       "1525    1\n",
       "1534    1\n",
       "Name: user_id, Length: 1534, dtype: int64"
      ]
     },
     "execution_count": 13,
     "metadata": {},
     "output_type": "execute_result"
    }
   ],
   "source": [
    "users = users.drop_duplicates(keep='first')\n",
    "users['user_id'].value_counts().sort_values()"
   ]
  },
  {
   "cell_type": "markdown",
   "id": "3ec31f76",
   "metadata": {},
   "source": [
    "Дубликаты удалены, уникальные идентификаторы пользователей не повторяются."
   ]
  },
  {
   "cell_type": "markdown",
   "id": "64824355",
   "metadata": {},
   "source": [
    "##### Вывод\n",
    "\n",
    "Проведена первичная обработка данных. \n",
    "В одной переменной был исправлен тип данных на более подходящий - на тип \"дата\". \n",
    "Также были удалены задублированные строчки.\n",
    "Пропущенных значений в базе не оказалось.\n",
    "Добавлены новые столбцы отдельно с месяцем, отдельно - с годом поездки на самокате."
   ]
  },
  {
   "cell_type": "markdown",
   "id": "01ec5b47",
   "metadata": {},
   "source": [
    "#### Шаг 3. Исследовательский анализ данных\n",
    "\n",
    "Рассмотрим подробнее каждый показатель."
   ]
  },
  {
   "cell_type": "markdown",
   "id": "932b9be3",
   "metadata": {},
   "source": [
    "##### Города\n",
    "\n",
    "Посмотрим распределение пользователей аренды самокатов по городам."
   ]
  },
  {
   "cell_type": "code",
   "execution_count": 14,
   "id": "719f58b2",
   "metadata": {},
   "outputs": [
    {
     "data": {
      "text/plain": [
       "city\n",
       "Пятигорск         219\n",
       "Екатеринбург      204\n",
       "Ростов-на-Дону    198\n",
       "Краснодар         193\n",
       "Сочи              189\n",
       "Омск              183\n",
       "Тюмень            180\n",
       "Москва            168\n",
       "Name: city, dtype: int64"
      ]
     },
     "execution_count": 14,
     "metadata": {},
     "output_type": "execute_result"
    },
    {
     "data": {
      "image/png": "[encoded data removed]",
      "text/plain": [
       "<Figure size 432x288 with 1 Axes>"
      ]
     },
     "metadata": {
      "needs_background": "light"
     },
     "output_type": "display_data"
    }
   ],
   "source": [
    "users.groupby('city')['city'].count().sort_values(ascending=True).plot(kind='barh', title = 'Пользователи по городам')\n",
    "plt.ylabel(\"\")\n",
    "users.groupby('city')['city'].count().sort_values(ascending=False)"
   ]
  },
  {
   "cell_type": "markdown",
   "id": "8d4ca6d9",
   "metadata": {},
   "source": [
    "В каждом городе почти одинаковое количество пользователей аренды самокатов - от 168 до 219. Больше всего - в Пятигорске (219), меньше всего - в Москве (168)."
   ]
  },
  {
   "cell_type": "markdown",
   "id": "68468e87",
   "metadata": {},
   "source": [
    "##### Пользователи с подпиской / без подписки\n",
    "\n",
    "Пользователей, которые не пользуются подпиской, немного больше - 54% против 46% пользователей с подпиской Ultra (или 835 человека против 699)."
   ]
  },
  {
   "cell_type": "code",
   "execution_count": 15,
   "id": "18c07ede",
   "metadata": {},
   "outputs": [
    {
     "data": {
      "text/plain": [
       "subscription_type\n",
       "free     835\n",
       "ultra    699\n",
       "Name: subscription_type, dtype: int64"
      ]
     },
     "execution_count": 15,
     "metadata": {},
     "output_type": "execute_result"
    },
    {
     "data": {
      "image/png": "[encoded data removed]",
      "text/plain": [
       "<Figure size 432x288 with 1 Axes>"
      ]
     },
     "metadata": {},
     "output_type": "display_data"
    }
   ],
   "source": [
    "users.groupby('subscription_type')['subscription_type'].count().sort_values(ascending=False).plot(kind='pie', autopct='%1.0f%%', title = 'Пользователи с подпиской/без подписки')\n",
    "plt.ylabel(\"\")\n",
    "users.groupby('subscription_type')['subscription_type'].count().sort_values(ascending=False)"
   ]
  },
  {
   "cell_type": "markdown",
   "id": "f9b887aa",
   "metadata": {},
   "source": [
    "##### Возраст пользователей\n",
    "\n",
    "Средний возраст пользователей самокатами - 25 лет, при этом большинство пользователей  - это молодые люди в возрасте от 22 до 28 лет. \n",
    "Можно увидеть на гистограмме, что возраст самого молодого пользователя - 12 лет, самого старшего 43 года."
   ]
  },
  {
   "cell_type": "code",
   "execution_count": 16,
   "id": "ca3cf3bd",
   "metadata": {},
   "outputs": [
    {
     "name": "stdout",
     "output_type": "stream",
     "text": [
      "count    1534.000000\n",
      "mean       24.903520\n",
      "std         4.572367\n",
      "min        12.000000\n",
      "25%        22.000000\n",
      "50%        25.000000\n",
      "75%        28.000000\n",
      "max        43.000000\n",
      "Name: age, dtype: float64\n"
     ]
    },
    {
     "data": {
      "text/plain": [
       "Text(0.5, 1.0, 'Возраст пользователей')"
      ]
     },
     "execution_count": 16,
     "metadata": {},
     "output_type": "execute_result"
    },
    {
     "data": {
      "image/png": "[encoded data removed]",
      "text/plain": [
       "<Figure size 1080x720 with 1 Axes>"
      ]
     },
     "metadata": {
      "needs_background": "light"
     },
     "output_type": "display_data"
    }
   ],
   "source": [
    "users['age'].hist(bins=80, figsize=(15, 10))\n",
    "print(users['age'].describe())\n",
    "plt.title('Возраст пользователей', fontsize=20)"
   ]
  },
  {
   "cell_type": "markdown",
   "id": "0359d4f4",
   "metadata": {},
   "source": [
    "##### Расстояние поездки\n",
    "\n",
    "Заметно две группы поездок - короткие (до 1500 м), их сравнительно немного, и более длительные (длиннее 1500м). Из-за неоднородной структуры лучше смотреть на медиану - в среднем длина поездки составляет 3133м. Поездок длинне 6000м очень мало. Также можно увидеть совсем короткие поездки - длиной около метра. Скорее всего, поездка не состоялась, но был зафиксирован старт, и, если пользователь без подписки, с него взяли деньги за старт."
   ]
  },
  {
   "cell_type": "code",
   "execution_count": 17,
   "id": "c11e6a6e",
   "metadata": {},
   "outputs": [
    {
     "name": "stdout",
     "output_type": "stream",
     "text": [
      "count    18068.000000\n",
      "mean      3070.659976\n",
      "std       1116.831209\n",
      "min          0.855683\n",
      "25%       2543.226360\n",
      "50%       3133.609994\n",
      "75%       3776.222735\n",
      "max       7211.007745\n",
      "Name: distance, dtype: float64\n"
     ]
    },
    {
     "data": {
      "text/plain": [
       "Text(0.5, 1.0, 'Расстояние поездки')"
      ]
     },
     "execution_count": 17,
     "metadata": {},
     "output_type": "execute_result"
    },
    {
     "data": {
      "image/png": "[encoded data removed]",
      "text/plain": [
       "<Figure size 1080x720 with 1 Axes>"
      ]
     },
     "metadata": {
      "needs_background": "light"
     },
     "output_type": "display_data"
    }
   ],
   "source": [
    "rides['distance'].hist(bins=200, figsize=(15, 10))\n",
    "print(rides['distance'].describe())\n",
    "plt.title('Расстояние поездки', fontsize=20)"
   ]
  },
  {
   "cell_type": "markdown",
   "id": "ed072e0a",
   "metadata": {},
   "source": [
    "##### Продолжительность поездок\n",
    "\n",
    "Средняя длительность поездки - 17 минут. Основная часть поездок укладывается в интервал от 13.5 до 22 минут. Виден пик длительности около нуля - скорее всего, поездка не состоялась, была завершена сразу после начала по разным причинам (это подтверждает график длинны поездки, там есть длина, близкая к нулю). Зато мы видим некоторое количество коротких поездок - дольше 2-х минут, с возрастанием минут количество поездок возрастает."
   ]
  },
  {
   "cell_type": "code",
   "execution_count": 18,
   "id": "70dae550",
   "metadata": {},
   "outputs": [
    {
     "name": "stdout",
     "output_type": "stream",
     "text": [
      "count    18068.000000\n",
      "mean        17.805011\n",
      "std          6.091051\n",
      "min          0.500000\n",
      "25%         13.597563\n",
      "50%         17.678395\n",
      "75%         21.724800\n",
      "max         40.823963\n",
      "Name: duration, dtype: float64\n"
     ]
    },
    {
     "data": {
      "text/plain": [
       "Text(0.5, 1.0, 'Продолжительность поездок')"
      ]
     },
     "execution_count": 18,
     "metadata": {},
     "output_type": "execute_result"
    },
    {
     "data": {
      "image/png": "[encoded data removed]",
      "text/plain": [
       "<Figure size 1440x1080 with 1 Axes>"
      ]
     },
     "metadata": {
      "needs_background": "light"
     },
     "output_type": "display_data"
    }
   ],
   "source": [
    "rides['duration'].hist(bins=200, figsize=(20, 15))\n",
    "print(rides['duration'].describe())\n",
    "plt.title('Продолжительность поездок', fontsize=20)"
   ]
  },
  {
   "cell_type": "markdown",
   "id": "f4855db2",
   "metadata": {},
   "source": [
    "##### Вывод\n",
    "\n",
    "Были рассмотрены основные показатели исследуемой базы данных. Мы выяснили, что данные о пользователях арендой самокатов касаются 2021 года, нескольких городов России.\n",
    "Аномальных выбросов в данных не обнаружено, поэтому дополнительной обработки таких значений не было.\n",
    "Вопросы возникают насчет возраста пользователей сервисом - есть данные о пользователях младше 18 лет, но эти данные также не будем трогать, потому что неизвестны правила пользования сервисом.\n",
    "Были замечены очень короткие заезды - по длительности и расстоянию они близки к нулю. Они также не были удалены, так так плата за такие заезды может списываться и они могут влиять на конечный результат дальнейших расчетов."
   ]
  },
  {
   "cell_type": "markdown",
   "id": "0695c418",
   "metadata": {},
   "source": [
    "#### Шаг 4. Объединение данных"
   ]
  },
  {
   "cell_type": "markdown",
   "id": "c3700f68",
   "metadata": {},
   "source": [
    "##### Общий датафрейм\n",
    "\n",
    "Объединим три базы данных в одну."
   ]
  },
  {
   "cell_type": "code",
   "execution_count": 19,
   "id": "0dea2866",
   "metadata": {},
   "outputs": [
    {
     "data": {
      "text/html": [
       "<div>\n",
       "<style scoped>\n",
       "    .dataframe tbody tr th:only-of-type {\n",
       "        vertical-align: middle;\n",
       "    }\n",
       "\n",
       "    .dataframe tbody tr th {\n",
       "        vertical-align: top;\n",
       "    }\n",
       "\n",
       "    .dataframe thead th {\n",
       "        text-align: right;\n",
       "    }\n",
       "</style>\n",
       "<table border=\"1\" class=\"dataframe\">\n",
       "  <thead>\n",
       "    <tr style=\"text-align: right;\">\n",
       "      <th></th>\n",
       "      <th>user_id</th>\n",
       "      <th>distance</th>\n",
       "      <th>duration</th>\n",
       "      <th>date</th>\n",
       "      <th>date_month</th>\n",
       "      <th>date_year</th>\n",
       "      <th>name</th>\n",
       "      <th>age</th>\n",
       "      <th>city</th>\n",
       "      <th>subscription_type</th>\n",
       "      <th>minute_price</th>\n",
       "      <th>start_ride_price</th>\n",
       "      <th>subscription_fee</th>\n",
       "    </tr>\n",
       "  </thead>\n",
       "  <tbody>\n",
       "    <tr>\n",
       "      <th>0</th>\n",
       "      <td>1</td>\n",
       "      <td>4409.919140</td>\n",
       "      <td>25.599769</td>\n",
       "      <td>2021-01-01</td>\n",
       "      <td>1</td>\n",
       "      <td>2021</td>\n",
       "      <td>Кира</td>\n",
       "      <td>22</td>\n",
       "      <td>Тюмень</td>\n",
       "      <td>ultra</td>\n",
       "      <td>6</td>\n",
       "      <td>0</td>\n",
       "      <td>199</td>\n",
       "    </tr>\n",
       "    <tr>\n",
       "      <th>1</th>\n",
       "      <td>1</td>\n",
       "      <td>2617.592153</td>\n",
       "      <td>15.816871</td>\n",
       "      <td>2021-01-18</td>\n",
       "      <td>1</td>\n",
       "      <td>2021</td>\n",
       "      <td>Кира</td>\n",
       "      <td>22</td>\n",
       "      <td>Тюмень</td>\n",
       "      <td>ultra</td>\n",
       "      <td>6</td>\n",
       "      <td>0</td>\n",
       "      <td>199</td>\n",
       "    </tr>\n",
       "    <tr>\n",
       "      <th>2</th>\n",
       "      <td>1</td>\n",
       "      <td>754.159807</td>\n",
       "      <td>6.232113</td>\n",
       "      <td>2021-04-20</td>\n",
       "      <td>4</td>\n",
       "      <td>2021</td>\n",
       "      <td>Кира</td>\n",
       "      <td>22</td>\n",
       "      <td>Тюмень</td>\n",
       "      <td>ultra</td>\n",
       "      <td>6</td>\n",
       "      <td>0</td>\n",
       "      <td>199</td>\n",
       "    </tr>\n",
       "    <tr>\n",
       "      <th>3</th>\n",
       "      <td>1</td>\n",
       "      <td>2694.783254</td>\n",
       "      <td>18.511000</td>\n",
       "      <td>2021-08-11</td>\n",
       "      <td>8</td>\n",
       "      <td>2021</td>\n",
       "      <td>Кира</td>\n",
       "      <td>22</td>\n",
       "      <td>Тюмень</td>\n",
       "      <td>ultra</td>\n",
       "      <td>6</td>\n",
       "      <td>0</td>\n",
       "      <td>199</td>\n",
       "    </tr>\n",
       "    <tr>\n",
       "      <th>4</th>\n",
       "      <td>1</td>\n",
       "      <td>4028.687306</td>\n",
       "      <td>26.265803</td>\n",
       "      <td>2021-08-28</td>\n",
       "      <td>8</td>\n",
       "      <td>2021</td>\n",
       "      <td>Кира</td>\n",
       "      <td>22</td>\n",
       "      <td>Тюмень</td>\n",
       "      <td>ultra</td>\n",
       "      <td>6</td>\n",
       "      <td>0</td>\n",
       "      <td>199</td>\n",
       "    </tr>\n",
       "    <tr>\n",
       "      <th>5</th>\n",
       "      <td>1</td>\n",
       "      <td>2770.890808</td>\n",
       "      <td>16.650138</td>\n",
       "      <td>2021-10-09</td>\n",
       "      <td>10</td>\n",
       "      <td>2021</td>\n",
       "      <td>Кира</td>\n",
       "      <td>22</td>\n",
       "      <td>Тюмень</td>\n",
       "      <td>ultra</td>\n",
       "      <td>6</td>\n",
       "      <td>0</td>\n",
       "      <td>199</td>\n",
       "    </tr>\n",
       "    <tr>\n",
       "      <th>6</th>\n",
       "      <td>1</td>\n",
       "      <td>3039.020292</td>\n",
       "      <td>14.927879</td>\n",
       "      <td>2021-10-19</td>\n",
       "      <td>10</td>\n",
       "      <td>2021</td>\n",
       "      <td>Кира</td>\n",
       "      <td>22</td>\n",
       "      <td>Тюмень</td>\n",
       "      <td>ultra</td>\n",
       "      <td>6</td>\n",
       "      <td>0</td>\n",
       "      <td>199</td>\n",
       "    </tr>\n",
       "    <tr>\n",
       "      <th>7</th>\n",
       "      <td>1</td>\n",
       "      <td>2842.118050</td>\n",
       "      <td>23.117468</td>\n",
       "      <td>2021-11-06</td>\n",
       "      <td>11</td>\n",
       "      <td>2021</td>\n",
       "      <td>Кира</td>\n",
       "      <td>22</td>\n",
       "      <td>Тюмень</td>\n",
       "      <td>ultra</td>\n",
       "      <td>6</td>\n",
       "      <td>0</td>\n",
       "      <td>199</td>\n",
       "    </tr>\n",
       "    <tr>\n",
       "      <th>8</th>\n",
       "      <td>1</td>\n",
       "      <td>3412.690668</td>\n",
       "      <td>15.238072</td>\n",
       "      <td>2021-11-14</td>\n",
       "      <td>11</td>\n",
       "      <td>2021</td>\n",
       "      <td>Кира</td>\n",
       "      <td>22</td>\n",
       "      <td>Тюмень</td>\n",
       "      <td>ultra</td>\n",
       "      <td>6</td>\n",
       "      <td>0</td>\n",
       "      <td>199</td>\n",
       "    </tr>\n",
       "    <tr>\n",
       "      <th>9</th>\n",
       "      <td>1</td>\n",
       "      <td>748.690645</td>\n",
       "      <td>15.041884</td>\n",
       "      <td>2021-11-22</td>\n",
       "      <td>11</td>\n",
       "      <td>2021</td>\n",
       "      <td>Кира</td>\n",
       "      <td>22</td>\n",
       "      <td>Тюмень</td>\n",
       "      <td>ultra</td>\n",
       "      <td>6</td>\n",
       "      <td>0</td>\n",
       "      <td>199</td>\n",
       "    </tr>\n",
       "    <tr>\n",
       "      <th>10</th>\n",
       "      <td>1</td>\n",
       "      <td>4031.020195</td>\n",
       "      <td>17.674448</td>\n",
       "      <td>2021-12-14</td>\n",
       "      <td>12</td>\n",
       "      <td>2021</td>\n",
       "      <td>Кира</td>\n",
       "      <td>22</td>\n",
       "      <td>Тюмень</td>\n",
       "      <td>ultra</td>\n",
       "      <td>6</td>\n",
       "      <td>0</td>\n",
       "      <td>199</td>\n",
       "    </tr>\n",
       "    <tr>\n",
       "      <th>11</th>\n",
       "      <td>1</td>\n",
       "      <td>2720.609748</td>\n",
       "      <td>9.529463</td>\n",
       "      <td>2021-12-22</td>\n",
       "      <td>12</td>\n",
       "      <td>2021</td>\n",
       "      <td>Кира</td>\n",
       "      <td>22</td>\n",
       "      <td>Тюмень</td>\n",
       "      <td>ultra</td>\n",
       "      <td>6</td>\n",
       "      <td>0</td>\n",
       "      <td>199</td>\n",
       "    </tr>\n",
       "    <tr>\n",
       "      <th>12</th>\n",
       "      <td>2</td>\n",
       "      <td>3105.086678</td>\n",
       "      <td>24.307514</td>\n",
       "      <td>2021-03-15</td>\n",
       "      <td>3</td>\n",
       "      <td>2021</td>\n",
       "      <td>Станислав</td>\n",
       "      <td>31</td>\n",
       "      <td>Омск</td>\n",
       "      <td>ultra</td>\n",
       "      <td>6</td>\n",
       "      <td>0</td>\n",
       "      <td>199</td>\n",
       "    </tr>\n",
       "    <tr>\n",
       "      <th>13</th>\n",
       "      <td>2</td>\n",
       "      <td>3053.519401</td>\n",
       "      <td>11.543256</td>\n",
       "      <td>2021-03-18</td>\n",
       "      <td>3</td>\n",
       "      <td>2021</td>\n",
       "      <td>Станислав</td>\n",
       "      <td>31</td>\n",
       "      <td>Омск</td>\n",
       "      <td>ultra</td>\n",
       "      <td>6</td>\n",
       "      <td>0</td>\n",
       "      <td>199</td>\n",
       "    </tr>\n",
       "    <tr>\n",
       "      <th>14</th>\n",
       "      <td>2</td>\n",
       "      <td>4029.116927</td>\n",
       "      <td>25.109188</td>\n",
       "      <td>2021-03-23</td>\n",
       "      <td>3</td>\n",
       "      <td>2021</td>\n",
       "      <td>Станислав</td>\n",
       "      <td>31</td>\n",
       "      <td>Омск</td>\n",
       "      <td>ultra</td>\n",
       "      <td>6</td>\n",
       "      <td>0</td>\n",
       "      <td>199</td>\n",
       "    </tr>\n",
       "  </tbody>\n",
       "</table>\n",
       "</div>"
      ],
      "text/plain": [
       "    user_id     distance   duration       date  date_month  date_year  \\\n",
       "0         1  4409.919140  25.599769 2021-01-01           1       2021   \n",
       "1         1  2617.592153  15.816871 2021-01-18           1       2021   \n",
       "2         1   754.159807   6.232113 2021-04-20           4       2021   \n",
       "3         1  2694.783254  18.511000 2021-08-11           8       2021   \n",
       "4         1  4028.687306  26.265803 2021-08-28           8       2021   \n",
       "5         1  2770.890808  16.650138 2021-10-09          10       2021   \n",
       "6         1  3039.020292  14.927879 2021-10-19          10       2021   \n",
       "7         1  2842.118050  23.117468 2021-11-06          11       2021   \n",
       "8         1  3412.690668  15.238072 2021-11-14          11       2021   \n",
       "9         1   748.690645  15.041884 2021-11-22          11       2021   \n",
       "10        1  4031.020195  17.674448 2021-12-14          12       2021   \n",
       "11        1  2720.609748   9.529463 2021-12-22          12       2021   \n",
       "12        2  3105.086678  24.307514 2021-03-15           3       2021   \n",
       "13        2  3053.519401  11.543256 2021-03-18           3       2021   \n",
       "14        2  4029.116927  25.109188 2021-03-23           3       2021   \n",
       "\n",
       "         name  age    city subscription_type  minute_price  start_ride_price  \\\n",
       "0        Кира   22  Тюмень             ultra             6                 0   \n",
       "1        Кира   22  Тюмень             ultra             6                 0   \n",
       "2        Кира   22  Тюмень             ultra             6                 0   \n",
       "3        Кира   22  Тюмень             ultra             6                 0   \n",
       "4        Кира   22  Тюмень             ultra             6                 0   \n",
       "5        Кира   22  Тюмень             ultra             6                 0   \n",
       "6        Кира   22  Тюмень             ultra             6                 0   \n",
       "7        Кира   22  Тюмень             ultra             6                 0   \n",
       "8        Кира   22  Тюмень             ultra             6                 0   \n",
       "9        Кира   22  Тюмень             ultra             6                 0   \n",
       "10       Кира   22  Тюмень             ultra             6                 0   \n",
       "11       Кира   22  Тюмень             ultra             6                 0   \n",
       "12  Станислав   31    Омск             ultra             6                 0   \n",
       "13  Станислав   31    Омск             ultra             6                 0   \n",
       "14  Станислав   31    Омск             ultra             6                 0   \n",
       "\n",
       "    subscription_fee  \n",
       "0                199  \n",
       "1                199  \n",
       "2                199  \n",
       "3                199  \n",
       "4                199  \n",
       "5                199  \n",
       "6                199  \n",
       "7                199  \n",
       "8                199  \n",
       "9                199  \n",
       "10               199  \n",
       "11               199  \n",
       "12               199  \n",
       "13               199  \n",
       "14               199  "
      ]
     },
     "execution_count": 19,
     "metadata": {},
     "output_type": "execute_result"
    }
   ],
   "source": [
    "#Создадим новый датафрейм. Сначала присоединим к базе данных с поездками базу данных с пользователями\n",
    "data = rides.merge(users, on='user_id')\n",
    "\n",
    "#Потом к получившейся базе присоединим данные о подписках\n",
    "data = data.merge(subscriptions, on='subscription_type')\n",
    "data.head(15)"
   ]
  },
  {
   "cell_type": "code",
   "execution_count": 20,
   "id": "2535445a",
   "metadata": {},
   "outputs": [
    {
     "name": "stdout",
     "output_type": "stream",
     "text": [
      "<class 'pandas.core.frame.DataFrame'>\n",
      "Int64Index: 18068 entries, 0 to 18067\n",
      "Data columns (total 13 columns):\n",
      " #   Column             Non-Null Count  Dtype         \n",
      "---  ------             --------------  -----         \n",
      " 0   user_id            18068 non-null  int64         \n",
      " 1   distance           18068 non-null  float64       \n",
      " 2   duration           18068 non-null  float64       \n",
      " 3   date               18068 non-null  datetime64[ns]\n",
      " 4   date_month         18068 non-null  int64         \n",
      " 5   date_year          18068 non-null  int64         \n",
      " 6   name               18068 non-null  object        \n",
      " 7   age                18068 non-null  int64         \n",
      " 8   city               18068 non-null  object        \n",
      " 9   subscription_type  18068 non-null  object        \n",
      " 10  minute_price       18068 non-null  int64         \n",
      " 11  start_ride_price   18068 non-null  int64         \n",
      " 12  subscription_fee   18068 non-null  int64         \n",
      "dtypes: datetime64[ns](1), float64(2), int64(7), object(3)\n",
      "memory usage: 1.9+ MB\n"
     ]
    }
   ],
   "source": [
    "data.info()"
   ]
  },
  {
   "cell_type": "markdown",
   "id": "e78b0d81",
   "metadata": {},
   "source": [
    "Объединить базы получилось, были найдены известные данные для каждого пользователя, пропусков в итоговой таблице нет. Размер полученной базы данных равен размеру базы о поездках (18068 наблюдений). Также получилось верное количество столбцов - 11 переменных трех исходных таблиц и 2 переменных с месяцем и годом, которые создали в базе данных с поездками, всего 13."
   ]
  },
  {
   "cell_type": "markdown",
   "id": "8e728b53",
   "metadata": {},
   "source": [
    "##### Пользователи с подписками / без подписок\n",
    "\n",
    "На основе общей базы данных создадим две новые. Первая будет включать только пользователей без подписки, вторая - только пользователей с подпиской Ultra. "
   ]
  },
  {
   "cell_type": "code",
   "execution_count": 21,
   "id": "84e14f5a",
   "metadata": {},
   "outputs": [],
   "source": [
    "#Пользователи без подписки:\n",
    "data_free = data.query('subscription_type == \"free\"')\n",
    "\n",
    "#Пользователи с подпиской:\n",
    "data_ultra = data.query('subscription_type == \"ultra\"')"
   ]
  },
  {
   "cell_type": "markdown",
   "id": "c2645d38",
   "metadata": {},
   "source": [
    "##### Расстояние и время поездок для пользователей разных категорий\n",
    "\n",
    "Сравним распределение расстояния поездок среди пользователей бесплатной (синий график) и платной (оранжевый график) версии подписки.\n",
    "У пользователей бесплатной подпиской можно увидеть два пика наиболее популярного расстояния поездок - около 2500м и 3500м, тогда как у пользователей платной подписки один ярко выраженный пик - чуть больше 3000м.\n",
    "Также есть различия в коротких заездах. У пользователей подписки Ultra их почти нет - минимальное расстояние поездки начинается примерно от 300м. Тогда как у того, кто не подписан на платный тариф, есть достаточно много \"коротких\" заездов, дистанция которых приближается к 0 метров."
   ]
  },
  {
   "cell_type": "code",
   "execution_count": 22,
   "id": "d34ddfd2",
   "metadata": {},
   "outputs": [
    {
     "data": {
      "text/plain": [
       "Text(0.5, 1.0, 'Расстояние поездок разных категорий пользователей')"
      ]
     },
     "execution_count": 22,
     "metadata": {},
     "output_type": "execute_result"
    },
    {
     "data": {
      "image/png": "[encoded data removed]",
      "text/plain": [
       "<Figure size 1440x1080 with 1 Axes>"
      ]
     },
     "metadata": {
      "needs_background": "light"
     },
     "output_type": "display_data"
    }
   ],
   "source": [
    "data_free['distance'].hist(bins=200, figsize=(20, 15))\n",
    "data_ultra['distance'].hist(bins=200, figsize=(20, 15))\n",
    "plt.legend(['Без подписки', 'Ultra'], fontsize=15)\n",
    "plt.title('Расстояние поездок разных категорий пользователей', fontsize=20)"
   ]
  },
  {
   "cell_type": "markdown",
   "id": "48801108",
   "metadata": {},
   "source": [
    "Рассмотрим подробнее время поездок пользователей разных категорий. Синий цвет графика - пользователи без подписки, оранжевый - с подпиской. Время поезлки у двух категорий пользователей очень похожи. Заметно лишь различие в очень коротких заездах - у пользователей без подписки очень большое количество заездов, близких к нулю. С подпиской такого пика не наблюдается."
   ]
  },
  {
   "cell_type": "code",
   "execution_count": 23,
   "id": "97dbc879",
   "metadata": {},
   "outputs": [
    {
     "data": {
      "text/plain": [
       "Text(0.5, 1.0, 'Продолжительность поездок разных категорий пользователей')"
      ]
     },
     "execution_count": 23,
     "metadata": {},
     "output_type": "execute_result"
    },
    {
     "data": {
      "image/png": "[encoded data removed]",
      "text/plain": [
       "<Figure size 1440x1080 with 1 Axes>"
      ]
     },
     "metadata": {
      "needs_background": "light"
     },
     "output_type": "display_data"
    }
   ],
   "source": [
    "data_free['duration'].hist(bins=200, figsize=(20, 15))\n",
    "data_ultra['duration'].hist(bins=200, figsize=(20, 15))\n",
    "plt.legend(['Без подписки', 'Ultra'], fontsize=15)\n",
    "plt.title('Продолжительность поездок разных категорий пользователей', fontsize=20)"
   ]
  },
  {
   "cell_type": "markdown",
   "id": "e825969f",
   "metadata": {},
   "source": [
    "#### Шаг 5. Подсчёт выручки\n",
    "\n",
    "Посчитаем выручку, которую принес каждый пользователь аренды самокатов за каждый месяц.\n",
    "Добавим в общий датафрейм столбец, в котором округлим длительность каждой поездки в большую сторону (до целых минут)."
   ]
  },
  {
   "cell_type": "code",
   "execution_count": 24,
   "id": "cf4bd942",
   "metadata": {},
   "outputs": [],
   "source": [
    "data['duration_round'] = np.ceil(data['duration'])"
   ]
  },
  {
   "cell_type": "markdown",
   "id": "d0954c59",
   "metadata": {},
   "source": [
    "Сгруппируем данные по каждому пользователю и месяцу, сохраним в новую таблицу:"
   ]
  },
  {
   "cell_type": "code",
   "execution_count": 25,
   "id": "1cc4637e",
   "metadata": {},
   "outputs": [
    {
     "data": {
      "text/html": [
       "<div>\n",
       "<style scoped>\n",
       "    .dataframe tbody tr th:only-of-type {\n",
       "        vertical-align: middle;\n",
       "    }\n",
       "\n",
       "    .dataframe tbody tr th {\n",
       "        vertical-align: top;\n",
       "    }\n",
       "\n",
       "    .dataframe thead th {\n",
       "        text-align: right;\n",
       "    }\n",
       "</style>\n",
       "<table border=\"1\" class=\"dataframe\">\n",
       "  <thead>\n",
       "    <tr style=\"text-align: right;\">\n",
       "      <th></th>\n",
       "      <th>user_id</th>\n",
       "      <th>date_month</th>\n",
       "      <th>distance_total</th>\n",
       "      <th>ride_total</th>\n",
       "      <th>duration_round_total</th>\n",
       "      <th>duration</th>\n",
       "      <th>date</th>\n",
       "      <th>date_year</th>\n",
       "      <th>name</th>\n",
       "      <th>age</th>\n",
       "      <th>city</th>\n",
       "      <th>subscription_type</th>\n",
       "      <th>minute_price</th>\n",
       "      <th>start_ride_price</th>\n",
       "      <th>subscription_fee</th>\n",
       "    </tr>\n",
       "  </thead>\n",
       "  <tbody>\n",
       "    <tr>\n",
       "      <th>0</th>\n",
       "      <td>1</td>\n",
       "      <td>1</td>\n",
       "      <td>7027.511294</td>\n",
       "      <td>2</td>\n",
       "      <td>42.0</td>\n",
       "      <td>25.599769</td>\n",
       "      <td>2021-01-01</td>\n",
       "      <td>2021</td>\n",
       "      <td>Кира</td>\n",
       "      <td>22</td>\n",
       "      <td>Тюмень</td>\n",
       "      <td>ultra</td>\n",
       "      <td>6</td>\n",
       "      <td>0</td>\n",
       "      <td>199</td>\n",
       "    </tr>\n",
       "    <tr>\n",
       "      <th>1</th>\n",
       "      <td>1</td>\n",
       "      <td>4</td>\n",
       "      <td>754.159807</td>\n",
       "      <td>1</td>\n",
       "      <td>7.0</td>\n",
       "      <td>6.232113</td>\n",
       "      <td>2021-04-20</td>\n",
       "      <td>2021</td>\n",
       "      <td>Кира</td>\n",
       "      <td>22</td>\n",
       "      <td>Тюмень</td>\n",
       "      <td>ultra</td>\n",
       "      <td>6</td>\n",
       "      <td>0</td>\n",
       "      <td>199</td>\n",
       "    </tr>\n",
       "    <tr>\n",
       "      <th>2</th>\n",
       "      <td>1</td>\n",
       "      <td>8</td>\n",
       "      <td>6723.470560</td>\n",
       "      <td>2</td>\n",
       "      <td>46.0</td>\n",
       "      <td>18.511000</td>\n",
       "      <td>2021-08-11</td>\n",
       "      <td>2021</td>\n",
       "      <td>Кира</td>\n",
       "      <td>22</td>\n",
       "      <td>Тюмень</td>\n",
       "      <td>ultra</td>\n",
       "      <td>6</td>\n",
       "      <td>0</td>\n",
       "      <td>199</td>\n",
       "    </tr>\n",
       "    <tr>\n",
       "      <th>3</th>\n",
       "      <td>1</td>\n",
       "      <td>10</td>\n",
       "      <td>5809.911100</td>\n",
       "      <td>2</td>\n",
       "      <td>32.0</td>\n",
       "      <td>16.650138</td>\n",
       "      <td>2021-10-09</td>\n",
       "      <td>2021</td>\n",
       "      <td>Кира</td>\n",
       "      <td>22</td>\n",
       "      <td>Тюмень</td>\n",
       "      <td>ultra</td>\n",
       "      <td>6</td>\n",
       "      <td>0</td>\n",
       "      <td>199</td>\n",
       "    </tr>\n",
       "    <tr>\n",
       "      <th>4</th>\n",
       "      <td>1</td>\n",
       "      <td>11</td>\n",
       "      <td>7003.499363</td>\n",
       "      <td>3</td>\n",
       "      <td>56.0</td>\n",
       "      <td>23.117468</td>\n",
       "      <td>2021-11-06</td>\n",
       "      <td>2021</td>\n",
       "      <td>Кира</td>\n",
       "      <td>22</td>\n",
       "      <td>Тюмень</td>\n",
       "      <td>ultra</td>\n",
       "      <td>6</td>\n",
       "      <td>0</td>\n",
       "      <td>199</td>\n",
       "    </tr>\n",
       "  </tbody>\n",
       "</table>\n",
       "</div>"
      ],
      "text/plain": [
       "   user_id  date_month  distance_total  ride_total  duration_round_total  \\\n",
       "0        1           1     7027.511294           2                  42.0   \n",
       "1        1           4      754.159807           1                   7.0   \n",
       "2        1           8     6723.470560           2                  46.0   \n",
       "3        1          10     5809.911100           2                  32.0   \n",
       "4        1          11     7003.499363           3                  56.0   \n",
       "\n",
       "    duration       date  date_year  name  age    city subscription_type  \\\n",
       "0  25.599769 2021-01-01       2021  Кира   22  Тюмень             ultra   \n",
       "1   6.232113 2021-04-20       2021  Кира   22  Тюмень             ultra   \n",
       "2  18.511000 2021-08-11       2021  Кира   22  Тюмень             ultra   \n",
       "3  16.650138 2021-10-09       2021  Кира   22  Тюмень             ultra   \n",
       "4  23.117468 2021-11-06       2021  Кира   22  Тюмень             ultra   \n",
       "\n",
       "   minute_price  start_ride_price  subscription_fee  \n",
       "0             6                 0               199  \n",
       "1             6                 0               199  \n",
       "2             6                 0               199  \n",
       "3             6                 0               199  \n",
       "4             6                 0               199  "
      ]
     },
     "execution_count": 25,
     "metadata": {},
     "output_type": "execute_result"
    }
   ],
   "source": [
    "data_aggr = data.groupby(by=['user_id', 'date_month']) \\\n",
    "    .agg({'distance': 'sum', 'user_id': 'count', 'duration_round': 'sum', \\\n",
    "          'duration': 'first', 'date': 'first', 'date_year': 'first', 'name': 'first', \\\n",
    "          'age': 'first', 'city': 'first', 'subscription_type': 'first', 'minute_price': 'first', \\\n",
    "          'start_ride_price': 'first', 'subscription_fee': 'first'})\n",
    "data_aggr.columns = ['distance_total', 'ride_total', 'duration_round_total', 'duration', 'date', 'date_year', 'name', 'age', 'city', 'subscription_type', 'minute_price', 'start_ride_price', 'subscription_fee']\n",
    "data_aggr = data_aggr.reset_index()\n",
    "data_aggr.head()"
   ]
  },
  {
   "cell_type": "markdown",
   "id": "1f77dfb4",
   "metadata": {},
   "source": [
    "В полученной таблице остались \"старые\" столбцы с нерелевантными данными, потому что мы выбрали только первые значения в них. Это столбцы duration и date, удалим их."
   ]
  },
  {
   "cell_type": "code",
   "execution_count": 26,
   "id": "921c07fc",
   "metadata": {},
   "outputs": [
    {
     "data": {
      "text/html": [
       "<div>\n",
       "<style scoped>\n",
       "    .dataframe tbody tr th:only-of-type {\n",
       "        vertical-align: middle;\n",
       "    }\n",
       "\n",
       "    .dataframe tbody tr th {\n",
       "        vertical-align: top;\n",
       "    }\n",
       "\n",
       "    .dataframe thead th {\n",
       "        text-align: right;\n",
       "    }\n",
       "</style>\n",
       "<table border=\"1\" class=\"dataframe\">\n",
       "  <thead>\n",
       "    <tr style=\"text-align: right;\">\n",
       "      <th></th>\n",
       "      <th>user_id</th>\n",
       "      <th>date_month</th>\n",
       "      <th>distance_total</th>\n",
       "      <th>ride_total</th>\n",
       "      <th>duration_round_total</th>\n",
       "      <th>date_year</th>\n",
       "      <th>name</th>\n",
       "      <th>age</th>\n",
       "      <th>city</th>\n",
       "      <th>subscription_type</th>\n",
       "      <th>minute_price</th>\n",
       "      <th>start_ride_price</th>\n",
       "      <th>subscription_fee</th>\n",
       "    </tr>\n",
       "  </thead>\n",
       "  <tbody>\n",
       "    <tr>\n",
       "      <th>0</th>\n",
       "      <td>1</td>\n",
       "      <td>1</td>\n",
       "      <td>7027.511294</td>\n",
       "      <td>2</td>\n",
       "      <td>42.0</td>\n",
       "      <td>2021</td>\n",
       "      <td>Кира</td>\n",
       "      <td>22</td>\n",
       "      <td>Тюмень</td>\n",
       "      <td>ultra</td>\n",
       "      <td>6</td>\n",
       "      <td>0</td>\n",
       "      <td>199</td>\n",
       "    </tr>\n",
       "    <tr>\n",
       "      <th>1</th>\n",
       "      <td>1</td>\n",
       "      <td>4</td>\n",
       "      <td>754.159807</td>\n",
       "      <td>1</td>\n",
       "      <td>7.0</td>\n",
       "      <td>2021</td>\n",
       "      <td>Кира</td>\n",
       "      <td>22</td>\n",
       "      <td>Тюмень</td>\n",
       "      <td>ultra</td>\n",
       "      <td>6</td>\n",
       "      <td>0</td>\n",
       "      <td>199</td>\n",
       "    </tr>\n",
       "    <tr>\n",
       "      <th>2</th>\n",
       "      <td>1</td>\n",
       "      <td>8</td>\n",
       "      <td>6723.470560</td>\n",
       "      <td>2</td>\n",
       "      <td>46.0</td>\n",
       "      <td>2021</td>\n",
       "      <td>Кира</td>\n",
       "      <td>22</td>\n",
       "      <td>Тюмень</td>\n",
       "      <td>ultra</td>\n",
       "      <td>6</td>\n",
       "      <td>0</td>\n",
       "      <td>199</td>\n",
       "    </tr>\n",
       "    <tr>\n",
       "      <th>3</th>\n",
       "      <td>1</td>\n",
       "      <td>10</td>\n",
       "      <td>5809.911100</td>\n",
       "      <td>2</td>\n",
       "      <td>32.0</td>\n",
       "      <td>2021</td>\n",
       "      <td>Кира</td>\n",
       "      <td>22</td>\n",
       "      <td>Тюмень</td>\n",
       "      <td>ultra</td>\n",
       "      <td>6</td>\n",
       "      <td>0</td>\n",
       "      <td>199</td>\n",
       "    </tr>\n",
       "    <tr>\n",
       "      <th>4</th>\n",
       "      <td>1</td>\n",
       "      <td>11</td>\n",
       "      <td>7003.499363</td>\n",
       "      <td>3</td>\n",
       "      <td>56.0</td>\n",
       "      <td>2021</td>\n",
       "      <td>Кира</td>\n",
       "      <td>22</td>\n",
       "      <td>Тюмень</td>\n",
       "      <td>ultra</td>\n",
       "      <td>6</td>\n",
       "      <td>0</td>\n",
       "      <td>199</td>\n",
       "    </tr>\n",
       "  </tbody>\n",
       "</table>\n",
       "</div>"
      ],
      "text/plain": [
       "   user_id  date_month  distance_total  ride_total  duration_round_total  \\\n",
       "0        1           1     7027.511294           2                  42.0   \n",
       "1        1           4      754.159807           1                   7.0   \n",
       "2        1           8     6723.470560           2                  46.0   \n",
       "3        1          10     5809.911100           2                  32.0   \n",
       "4        1          11     7003.499363           3                  56.0   \n",
       "\n",
       "   date_year  name  age    city subscription_type  minute_price  \\\n",
       "0       2021  Кира   22  Тюмень             ultra             6   \n",
       "1       2021  Кира   22  Тюмень             ultra             6   \n",
       "2       2021  Кира   22  Тюмень             ultra             6   \n",
       "3       2021  Кира   22  Тюмень             ultra             6   \n",
       "4       2021  Кира   22  Тюмень             ultra             6   \n",
       "\n",
       "   start_ride_price  subscription_fee  \n",
       "0                 0               199  \n",
       "1                 0               199  \n",
       "2                 0               199  \n",
       "3                 0               199  \n",
       "4                 0               199  "
      ]
     },
     "execution_count": 26,
     "metadata": {},
     "output_type": "execute_result"
    }
   ],
   "source": [
    "data_aggr = data_aggr.loc[:, ['user_id', 'date_month', 'distance_total', 'ride_total', 'duration_round_total', 'date_year', 'name', 'age', 'city', 'subscription_type', 'minute_price', 'start_ride_price', 'subscription_fee']]\n",
    "data_aggr.head()"
   ]
  },
  {
   "cell_type": "markdown",
   "id": "f41aea30",
   "metadata": {},
   "source": [
    "Добавим в таблицу новый столбец, где посчитаем выручку по каждому пользователю и месяцу."
   ]
  },
  {
   "cell_type": "code",
   "execution_count": 27,
   "id": "df880fab",
   "metadata": {},
   "outputs": [],
   "source": [
    "data_aggr['income'] = data_aggr['start_ride_price'] * data_aggr['ride_total'] + data_aggr['minute_price'] * data_aggr['duration_round_total'] + data_aggr['subscription_fee']"
   ]
  },
  {
   "cell_type": "markdown",
   "id": "4b30ce90",
   "metadata": {},
   "source": [
    "#### Шаг 6. Проверка гипотез\n",
    "\n",
    "В этом разделе сравним пользователей без подписки и с подпиской."
   ]
  },
  {
   "cell_type": "markdown",
   "id": "a813aa8b",
   "metadata": {},
   "source": [
    "##### Время поездки\n",
    "\n",
    "Важно понять, тратят ли пользователи с подпиской больше времени на поездки, чем пользователи без подписки.\n",
    "Сформулируем нулевую гипотезу Н0: \"Среднее время поездки пользователей с подпиской равно среднему времени поездки пользователей без подписки\".\n",
    "Альтернативная гипотеза H1: \"Среднее время поездки пользователей с подпиской больше, чем пользователей без подписки\".\n",
    "\n",
    "Уровень значимости возьмем на уровне 5%. Проведем ttest для двух выборок, в качестве альтернативной используем одностороннюю гипотезу \"больше\".\n",
    "Используем для анализа базы данных с данными о поездках, пользователях и подписках, отдельные для пользователей с подпиской и без подписки."
   ]
  },
  {
   "cell_type": "code",
   "execution_count": 28,
   "id": "b188f71e",
   "metadata": {},
   "outputs": [
    {
     "name": "stdout",
     "output_type": "stream",
     "text": [
      "p-value: 1.2804098316645618e-34\n",
      "Отвергаем нулевую гипотезу\n"
     ]
    }
   ],
   "source": [
    "alpha = 0.05\n",
    "results_duration = st.ttest_ind(data_ultra['duration'], data_free['duration'], alternative='greater')\n",
    "print(f'p-value: {results_duration.pvalue}')\n",
    "\n",
    "# проверяем p-value\n",
    "if results_duration.pvalue < alpha:\n",
    "    print('Отвергаем нулевую гипотезу')\n",
    "else:\n",
    "    print('Нет оснований отвергнуть нулевую гипотезу')"
   ]
  },
  {
   "cell_type": "markdown",
   "id": "8dd1d3a0",
   "metadata": {},
   "source": [
    "Значение p-value очень мало, что дает основание отвергнуть нулевую гипотезу о том, что среднее время поездки для двух групп пользователей равно. Мы принимаем альтернативную гипотезу - среднее время поездки пользователей с подпиской больше, чем пользователей без подписки.\n",
    "\n",
    "Посмотри, чему равно среднее время поездки:"
   ]
  },
  {
   "cell_type": "code",
   "execution_count": 29,
   "id": "488f562c",
   "metadata": {},
   "outputs": [
    {
     "name": "stdout",
     "output_type": "stream",
     "text": [
      "Среднее время поездки пользователя с подпиской 18.54\n",
      "Среднее время поездки пользователя без подписки 17.39\n"
     ]
    }
   ],
   "source": [
    "print('Среднее время поездки пользователя с подпиской', round(data_ultra['duration'].mean(), 2))\n",
    "print('Среднее время поездки пользователя без подписки', round(data_free['duration'].mean(), 2))"
   ]
  },
  {
   "cell_type": "markdown",
   "id": "d14b29a1",
   "metadata": {},
   "source": [
    "Вывод: можно утверждать, что пользователи с подпиской тратят больше времени на поездки.\n",
    "\n",
    "Посчитаем среднюю цену поездки для пользователей с подпиской и без.\n",
    "С подпиской: 18.54 * 6 (цена одной минуты) + 0 (плата за старт) = 111.24 руб.\n",
    "Без подписки: 17.39 * 8 (цена одной минуты) + 50 (плата за старт) = 189.2 руб.\n",
    "\n",
    "На первый взгляд пользователи с подпиской платят в среднем меньше за поездку на 77.96 руб. (189.2 - 111.24). Но они еще вносят ежемесячную плату. Получается, что пользователь с подпиской будет \"выгоднее\" для компании, если будет совершать меньше трех поездок в месяц (199 руб. / 77.96 руб. = 2.55 (примерно равно)), чтобы нивелировать разницу в стоимости поездки по сравнению с пользователем, который за подписку не платит. Для более точных выводов нужно посмотреть на среднемесячную выручку этих двух групп пользователей."
   ]
  },
  {
   "cell_type": "markdown",
   "id": "747ea139",
   "metadata": {},
   "source": [
    "##### Расстояние - пользователи с подпиской\n",
    "\n",
    "Важно, чтобы расстояние одной поездки не превышало 3130 метров, это расстояние оптимально с точки зрения износа самоката. \n",
    "Проверим гипотезу о том, что расстояние, которое проезжают пользователи с подпиской за одну поездку, не превышает 3130 метров.\n",
    "\n",
    "Уровень значимости возьмем также на уровне 5%. Проведем односторонний ttest, сформулируем гипотезы следующим образом:\n",
    "Нулевая гипотеза Н0: \"Среднее расстояние одной поездки пользователей с подпиской равно или меньше 3130 метров\".\n",
    "Альтернативная гипотеза H1: \"Среднее расстояние одной поездки пользователей с подпиской больше 3130 метров\".\n",
    "\n",
    "Используем базу данных с информацией только о пользователях с подпиской."
   ]
  },
  {
   "cell_type": "code",
   "execution_count": 30,
   "id": "75056aab",
   "metadata": {},
   "outputs": [
    {
     "name": "stdout",
     "output_type": "stream",
     "text": [
      "p-значение: 0.9195368847849785\n",
      "Не отвергаем нулевую гипотезу\n"
     ]
    }
   ],
   "source": [
    "distance_optimal = 3130\n",
    "\n",
    "alpha = 0.05 # уровень статистической значимости\n",
    "\n",
    "results_distance = st.ttest_1samp(\n",
    "    data_ultra['distance'], \n",
    "    distance_optimal,\n",
    "      alternative='greater')\n",
    "\n",
    "print('p-значение:', results_distance.pvalue)\n",
    "\n",
    "if (results_distance.pvalue < alpha):\n",
    "    print('Отвергаем нулевую гипотезу')\n",
    "else:\n",
    "    print('Не отвергаем нулевую гипотезу') "
   ]
  },
  {
   "cell_type": "code",
   "execution_count": 31,
   "id": "48b1295b",
   "metadata": {},
   "outputs": [
    {
     "data": {
      "text/plain": [
       "3115.4453880370247"
      ]
     },
     "execution_count": 31,
     "metadata": {},
     "output_type": "execute_result"
    }
   ],
   "source": [
    "#выведем среднее расстояние одной поездки пользователей с подпиской:\n",
    "data_ultra['distance'].mean()"
   ]
  },
  {
   "cell_type": "markdown",
   "id": "2e647bd5",
   "metadata": {},
   "source": [
    "Вывод: тест на заданном уровне значимости показал, что среднее расстояние одной поездки пользователей с подпиской равно или меньше 3130 м."
   ]
  },
  {
   "cell_type": "markdown",
   "id": "8961290c",
   "metadata": {},
   "source": [
    "##### Выручка\n",
    "\n",
    "Проверим, будет ли помесячная выручка от пользователей с подпиской по месяцам выше, чем выручка от пользователей без подписки.\n",
    "\n",
    "Сформулируем нулевую гипотезу Н0: \"Средняя помесячная выручка от пользователей с подпиской равна средней помесячной выручке от пользователей без подписки\".\n",
    "Альтернативная гипотеза H1: \"Средняя помесячная выручка от пользователей с подпиской больше, чем от пользователей без подписки\".\n",
    "\n",
    "Уровень значимости возьмем на уровне 5%. Проведем ttest для двух выборок, в качестве альтернативной используем одностороннюю гипотезу \"больше\".\n",
    "Используем для анализа сгруппированную по месяцам и пользователям базу данных."
   ]
  },
  {
   "cell_type": "code",
   "execution_count": 32,
   "id": "b590afbe",
   "metadata": {},
   "outputs": [
    {
     "name": "stdout",
     "output_type": "stream",
     "text": [
      "p-value: 1.8850394384715216e-31\n",
      "Отвергаем нулевую гипотезу\n"
     ]
    }
   ],
   "source": [
    "alpha = 0.05\n",
    "results_income = st.ttest_ind(data_aggr.query('subscription_type == \"ultra\"')['income'], data_aggr.query('subscription_type == \"free\"')['income'], alternative='greater')\n",
    "print(f'p-value: {results_income.pvalue}')\n",
    "\n",
    "# проверяем p-value\n",
    "if results_income.pvalue < alpha:\n",
    "    print('Отвергаем нулевую гипотезу')\n",
    "else:\n",
    "    print('Нет оснований отвергнуть нулевую гипотезу')"
   ]
  },
  {
   "cell_type": "markdown",
   "id": "a1d3b373",
   "metadata": {},
   "source": [
    "Принимаем альтернативную гипотезу - средняя помесячная выручка от пользователей с подпиской больше, чем от пользователей без подписки.\n",
    "Сравним средние выручки:"
   ]
  },
  {
   "cell_type": "code",
   "execution_count": 33,
   "id": "76f15c4a",
   "metadata": {},
   "outputs": [
    {
     "name": "stdout",
     "output_type": "stream",
     "text": [
      "Средняя помесячная выручка пользователей с подпиской 362.7921906022502\n",
      "Средняя помесячная выручка пользователей без подписки 328.6413651073845\n"
     ]
    }
   ],
   "source": [
    "print('Средняя помесячная выручка пользователей с подпиской', data_aggr.query('subscription_type == \"ultra\"')['income'].mean())\n",
    "print('Средняя помесячная выручка пользователей без подписки', data_aggr.query('subscription_type == \"free\"')['income'].mean())"
   ]
  },
  {
   "cell_type": "markdown",
   "id": "0ad8f33a",
   "metadata": {},
   "source": [
    "Вывод: средняя помесячная выручка от пользователей с подпиской больше, чем от пользователей без подписки."
   ]
  },
  {
   "cell_type": "markdown",
   "id": "d2d6ec2c",
   "metadata": {},
   "source": [
    "##### Техническая поддержка\n",
    "\n",
    "Представим, что у нас есть данные для каждого пользователя о количестве обращений в техническую поддержку до обновления и после него. Чтобы проверить, снизилось ли кол-во обращений в техническую поддержку после обновления, нужно использовать метод scipy.stats.ttest_rel(). Он проверяет гипотезу о равенстве средних двух генеральных совокупностей для зависимых (парных) выборок."
   ]
  },
  {
   "cell_type": "markdown",
   "id": "55693f08",
   "metadata": {},
   "source": [
    "#### Шаг 7. Распределения"
   ]
  },
  {
   "cell_type": "markdown",
   "id": "20d193ca",
   "metadata": {},
   "source": [
    "##### Промокоды на один бесплатный месяц\n",
    "\n",
    "Отделу маркетинга GoFast поставили задачу: нужно провести акцию с раздачей промокодов на один бесплатный месяц подписки, в рамках которой как минимум 100 существующих клиентов должны продлить эту подписку. То есть по завершении периода действия подписки пользователь может либо отказаться от неё, либо продлить, совершив соотвествующий платёж. \n",
    "\n",
    "Эта акция уже проводилась ранее и по итогу выяснилось, что после бесплатного пробного периода подписку продлевают 10 % пользователей. Выясните, какое минимальное количество промокодов нужно разослать, чтобы вероятность не выполнить план была примерно 5%.\n",
    "\n",
    "Так как количество наблюдений велико (по крайней мере больше 1000), то аппроксимируем биномиальное распределение нормальным. Для вычисления общего количества разосланных промокодов (n) нужно, чтобы кумулятивная функция распределения (cdf) от 100 была равна примерно 0.05. Будем менять значение n, чтобы добиться такого результата. "
   ]
  },
  {
   "cell_type": "code",
   "execution_count": 34,
   "id": "9fd8f21c",
   "metadata": {},
   "outputs": [
    {
     "name": "stdout",
     "output_type": "stream",
     "text": [
      "0.050650790692463\n"
     ]
    }
   ],
   "source": [
    "# задаём параметры биномиального распределения\n",
    "n = 1168 #этот параметр меняем таким образом, чтобы получить при 100, близкое к 0.05\n",
    "p = 0.1\n",
    "\n",
    "# задаём параметры нормального распределения равными\n",
    "# мат.ожиданию и дисперсии биномиального распределения\n",
    "mu = n * p\n",
    "sigma = sqrt(n * p * (1 - p))\n",
    "\n",
    "# задаём нормальное распределение\n",
    "distr = st.norm(mu, sigma) \n",
    "\n",
    "# считаем вероятность хвоста слева от 100\n",
    "result = distr.cdf(100)\n",
    "print(result)"
   ]
  },
  {
   "cell_type": "markdown",
   "id": "df41e429",
   "metadata": {},
   "source": [
    "При 1168 разосланных промокодах на один бесплатный месяц подписки с вероятностью примерно 5% как минимум 100 клиентов продлят эту подписку."
   ]
  },
  {
   "cell_type": "markdown",
   "id": "816db2a3",
   "metadata": {},
   "source": [
    "##### Push-уведомления в мобильном приложении\n",
    "\n",
    "Отдел маркетинга рассылает клиентам push-уведомления в мобильном приложении. Клиенты могут открыть его или не открывать. Известно, что уведомления открывают около 40 % получивших клиентов. Отдел планирует разослать 1 млн уведомлений. С помощью аппроксимации постройте примерный график распределения и оцените вероятность того, что уведомление откроют не более 399,5 тыс. пользователей."
   ]
  },
  {
   "cell_type": "code",
   "execution_count": 35,
   "id": "3e70c44b",
   "metadata": {},
   "outputs": [
    {
     "name": "stdout",
     "output_type": "stream",
     "text": [
      "0.15371708296369768\n"
     ]
    }
   ],
   "source": [
    "# задаём параметры биномиального распределения\n",
    "n = 1000000\n",
    "p = 0.4\n",
    "\n",
    "# задаём параметры нормального распределения равными\n",
    "# мат.ожиданию и дисперсии биномиального распределения\n",
    "mu = n * p\n",
    "sigma = sqrt(n * p * (1 - p))\n",
    "\n",
    "# задаём нормальное распределение\n",
    "distr = st.norm(mu, sigma) \n",
    "\n",
    "# считаем вероятность хвоста слева от 399,5 тысяч\n",
    "result = distr.cdf(399500)\n",
    "print(result)"
   ]
  },
  {
   "cell_type": "markdown",
   "id": "77984b38",
   "metadata": {},
   "source": [
    "При таких вводных условия рассылки push-уведомления (1 млн.уведомлений и 40% открывших уведомления клиентов) вероятность получить открытыми более 399,5 тыс. писем (или равное этому значению) составляет около 85% ((1-0.1537)*100%), что довольно высокий показатель."
   ]
  },
  {
   "cell_type": "markdown",
   "id": "f1dcc037",
   "metadata": {},
   "source": [
    "#### Вывод"
   ]
  },
  {
   "cell_type": "markdown",
   "id": "ac7d6b8e",
   "metadata": {},
   "source": [
    "Были обработаны данные о пользовании сервисом аренды самокатов GoFast - соединены данные о пользователях, об их поездках и справочная информация о существующих тарифах. Данные проверены на дубликаты и пропущенные значения, измене тип данных на подходящий, добавлены новые столбцы с месяцем и годом поездок, посчитана помесяная выручка для каждого пользователя.\n",
    "\n",
    "Больше всего пользователей аренды самокатов в Пятигорске, меньше всего - в Москве. Пользуются подпиской 46% всех пользователей. Средний возраст - 25 лет. Средняя длительность поездки - 17 минут. Основная часть поездок укладывается в интервал от 13.5 до 22 минут.\n",
    "\n",
    "Можно сделать выводы о том, что две группы пользователей - с подпиской и без - различаются по следующим параметрам:\n",
    "\n",
    "1. Пользователи с подпиской тратят больше времени на поездки (в среднем 18.54 минут против 17.39 у пользователей без подписки). Они платят в среднем меньше за поездку на 77.96 руб. (189.2 - 111.24), но еще вносят ежемесячную плату. Получается, что пользователь с подпиской будет \"выгоднее\" для компании, если будет совершать меньше трех поездок в месяц (199 руб. / 77.96 руб. = 2.55 (примерно равно)), чтобы нивелировать разницу в стоимости поездки по сравнению с пользователем, который за подписку не платит. Для более точных выводов нужно посмотреть на среднемесячную выручку этих двух групп пользователей.\n",
    "\n",
    "2. Средняя помесячная выручка от пользователей с подпиской выше, чем от пользователей без подписки (362.79 руб. против 328.64руб у пользователей без подписки)\n",
    "\n",
    "Также было рассчитано средняя дальность поездки у пользователей с платной подпиской. Она меньше критического расстояния износа самоката, что очень хорошо. Значит, увеличивать кол-во пользователей с подпиской выгодно, так как они приносят большую выручку, нежели пользователи без подписки.\n",
    "\n",
    "Чтобы увеличить количество пользователей, пользующихся подпиской, можно проводить промоакции и рассылки, например:\n",
    "\n",
    "1. Провести акцию с раздачей промокодов на один бесплатный месяц подписки. По завершении периода действия подписки пользователь может либо отказаться от неё, либо продлить, совершив соотвествующий платёж. При 1168 разосланных промокодах на один бесплатный месяц подписки с вероятностью примерно 5% как минимум 100 клиентов продлят эту подписку.\n",
    "\n",
    "2. Рассылает клиентам push-уведомления в мобильном приложении. При следующих вводных условиях рассылки push-уведомления - 1 млн.уведомлений и 40% открывших уведомления клиентов - вероятность получить открытыми более 399,5 тыс. писем составляет около 85%."
   ]
  }
 ],
 "metadata": {
  "ExecuteTimeLog": [
   {
    "duration": 45,
    "start_time": "2023-05-06T12:55:03.170Z"
   },
   {
    "duration": 427,
    "start_time": "2023-05-06T12:55:08.370Z"
   },
   {
    "duration": 100,
    "start_time": "2023-05-06T12:55:08.799Z"
   },
   {
    "duration": 31,
    "start_time": "2023-05-06T12:55:35.948Z"
   },
   {
    "duration": 32,
    "start_time": "2023-05-06T12:55:51.291Z"
   },
   {
    "duration": 31,
    "start_time": "2023-05-06T12:56:15.147Z"
   },
   {
    "duration": 28,
    "start_time": "2023-05-06T12:56:22.404Z"
   },
   {
    "duration": 10,
    "start_time": "2023-05-06T13:06:59.948Z"
   },
   {
    "duration": 81,
    "start_time": "2023-05-06T13:14:47.311Z"
   },
   {
    "duration": 11,
    "start_time": "2023-05-06T13:15:30.989Z"
   },
   {
    "duration": 71,
    "start_time": "2023-05-06T13:24:36.267Z"
   },
   {
    "duration": 12,
    "start_time": "2023-05-06T13:25:04.240Z"
   },
   {
    "duration": 6,
    "start_time": "2023-05-06T13:55:31.809Z"
   },
   {
    "duration": 50,
    "start_time": "2023-05-06T13:55:51.880Z"
   },
   {
    "duration": 23,
    "start_time": "2023-05-06T13:56:18.246Z"
   },
   {
    "duration": 19,
    "start_time": "2023-05-06T13:56:38.946Z"
   },
   {
    "duration": 5,
    "start_time": "2023-05-06T14:01:07.184Z"
   },
   {
    "duration": 471,
    "start_time": "2023-05-06T14:01:37.575Z"
   },
   {
    "duration": 22,
    "start_time": "2023-05-06T14:02:03.941Z"
   },
   {
    "duration": 10,
    "start_time": "2023-05-06T14:02:21.157Z"
   },
   {
    "duration": 5,
    "start_time": "2023-05-06T14:06:57.382Z"
   },
   {
    "duration": 11,
    "start_time": "2023-05-06T14:22:27.509Z"
   },
   {
    "duration": 11,
    "start_time": "2023-05-06T14:22:52.552Z"
   },
   {
    "duration": 9,
    "start_time": "2023-05-06T14:23:07.447Z"
   },
   {
    "duration": 5,
    "start_time": "2023-05-06T14:32:05.559Z"
   },
   {
    "duration": 11,
    "start_time": "2023-05-06T14:32:20.967Z"
   },
   {
    "duration": 9,
    "start_time": "2023-05-06T14:32:54.675Z"
   },
   {
    "duration": 8,
    "start_time": "2023-05-06T14:33:08.911Z"
   },
   {
    "duration": 9,
    "start_time": "2023-05-06T14:33:28.908Z"
   },
   {
    "duration": 10,
    "start_time": "2023-05-06T14:33:47.896Z"
   },
   {
    "duration": 45,
    "start_time": "2023-05-06T14:34:34.165Z"
   },
   {
    "duration": 11,
    "start_time": "2023-05-06T14:34:42.310Z"
   },
   {
    "duration": 17,
    "start_time": "2023-05-06T14:34:57.221Z"
   },
   {
    "duration": 12,
    "start_time": "2023-05-06T14:35:10.969Z"
   },
   {
    "duration": 4,
    "start_time": "2023-05-06T14:35:24.123Z"
   },
   {
    "duration": 36,
    "start_time": "2023-05-06T14:35:24.129Z"
   },
   {
    "duration": 12,
    "start_time": "2023-05-06T14:35:24.167Z"
   },
   {
    "duration": 45,
    "start_time": "2023-05-06T14:35:24.181Z"
   },
   {
    "duration": 12,
    "start_time": "2023-05-06T14:35:24.229Z"
   },
   {
    "duration": 19,
    "start_time": "2023-05-06T14:35:24.242Z"
   },
   {
    "duration": 9,
    "start_time": "2023-05-06T14:35:24.262Z"
   },
   {
    "duration": 22,
    "start_time": "2023-05-06T14:35:24.272Z"
   },
   {
    "duration": 4,
    "start_time": "2023-05-06T14:35:24.296Z"
   },
   {
    "duration": 17,
    "start_time": "2023-05-06T14:35:24.301Z"
   },
   {
    "duration": 9,
    "start_time": "2023-05-06T14:35:24.319Z"
   },
   {
    "duration": 12,
    "start_time": "2023-05-06T14:35:36.755Z"
   },
   {
    "duration": 2,
    "start_time": "2023-05-06T14:35:46.686Z"
   },
   {
    "duration": 37,
    "start_time": "2023-05-06T14:35:46.691Z"
   },
   {
    "duration": 11,
    "start_time": "2023-05-06T14:35:46.729Z"
   },
   {
    "duration": 41,
    "start_time": "2023-05-06T14:35:46.741Z"
   },
   {
    "duration": 10,
    "start_time": "2023-05-06T14:35:46.784Z"
   },
   {
    "duration": 16,
    "start_time": "2023-05-06T14:35:46.796Z"
   },
   {
    "duration": 10,
    "start_time": "2023-05-06T14:35:46.814Z"
   },
   {
    "duration": 25,
    "start_time": "2023-05-06T14:35:46.825Z"
   },
   {
    "duration": 5,
    "start_time": "2023-05-06T14:35:46.851Z"
   },
   {
    "duration": 12,
    "start_time": "2023-05-06T14:35:46.858Z"
   },
   {
    "duration": 31,
    "start_time": "2023-05-06T14:35:46.872Z"
   },
   {
    "duration": 3,
    "start_time": "2023-05-06T14:36:44.677Z"
   },
   {
    "duration": 32,
    "start_time": "2023-05-06T14:36:44.681Z"
   },
   {
    "duration": 13,
    "start_time": "2023-05-06T14:36:44.716Z"
   },
   {
    "duration": 27,
    "start_time": "2023-05-06T14:36:44.730Z"
   },
   {
    "duration": 9,
    "start_time": "2023-05-06T14:36:44.759Z"
   },
   {
    "duration": 17,
    "start_time": "2023-05-06T14:36:44.769Z"
   },
   {
    "duration": 13,
    "start_time": "2023-05-06T14:36:44.787Z"
   },
   {
    "duration": 13,
    "start_time": "2023-05-06T14:36:44.801Z"
   },
   {
    "duration": 4,
    "start_time": "2023-05-06T14:36:44.816Z"
   },
   {
    "duration": 10,
    "start_time": "2023-05-06T14:36:44.821Z"
   },
   {
    "duration": 9,
    "start_time": "2023-05-06T14:36:44.833Z"
   },
   {
    "duration": 7,
    "start_time": "2023-05-06T14:37:12.407Z"
   },
   {
    "duration": 10,
    "start_time": "2023-05-06T14:37:17.898Z"
   },
   {
    "duration": 5,
    "start_time": "2023-05-06T14:37:22.138Z"
   },
   {
    "duration": 12,
    "start_time": "2023-05-06T14:37:31.389Z"
   },
   {
    "duration": 3,
    "start_time": "2023-05-06T14:37:35.158Z"
   },
   {
    "duration": 36,
    "start_time": "2023-05-06T14:37:35.164Z"
   },
   {
    "duration": 15,
    "start_time": "2023-05-06T14:37:35.202Z"
   },
   {
    "duration": 40,
    "start_time": "2023-05-06T14:37:35.219Z"
   },
   {
    "duration": 16,
    "start_time": "2023-05-06T14:37:35.261Z"
   },
   {
    "duration": 18,
    "start_time": "2023-05-06T14:37:35.295Z"
   },
   {
    "duration": 10,
    "start_time": "2023-05-06T14:37:35.314Z"
   },
   {
    "duration": 31,
    "start_time": "2023-05-06T14:37:35.325Z"
   },
   {
    "duration": 4,
    "start_time": "2023-05-06T14:37:35.358Z"
   },
   {
    "duration": 18,
    "start_time": "2023-05-06T14:37:35.363Z"
   },
   {
    "duration": 6,
    "start_time": "2023-05-06T14:37:35.383Z"
   },
   {
    "duration": 9,
    "start_time": "2023-05-06T14:39:08.394Z"
   },
   {
    "duration": 128,
    "start_time": "2023-05-06T15:27:23.796Z"
   },
   {
    "duration": 145,
    "start_time": "2023-05-06T15:28:00.795Z"
   },
   {
    "duration": 139,
    "start_time": "2023-05-06T15:28:30.619Z"
   },
   {
    "duration": 150,
    "start_time": "2023-05-06T15:37:05.406Z"
   },
   {
    "duration": 144,
    "start_time": "2023-05-06T15:46:05.771Z"
   },
   {
    "duration": 170,
    "start_time": "2023-05-06T15:46:14.256Z"
   },
   {
    "duration": 130,
    "start_time": "2023-05-06T15:46:29.606Z"
   },
   {
    "duration": 187,
    "start_time": "2023-05-06T15:46:44.158Z"
   },
   {
    "duration": 188,
    "start_time": "2023-05-06T16:14:17.018Z"
   },
   {
    "duration": 134,
    "start_time": "2023-05-06T16:16:29.417Z"
   },
   {
    "duration": 158,
    "start_time": "2023-05-06T16:17:07.716Z"
   },
   {
    "duration": 132,
    "start_time": "2023-05-06T16:18:25.957Z"
   },
   {
    "duration": 148,
    "start_time": "2023-05-06T16:18:41.664Z"
   },
   {
    "duration": 161,
    "start_time": "2023-05-06T16:25:19.287Z"
   },
   {
    "duration": 123,
    "start_time": "2023-05-06T16:28:48.380Z"
   },
   {
    "duration": 92,
    "start_time": "2023-05-06T16:29:44.570Z"
   },
   {
    "duration": 112,
    "start_time": "2023-05-06T16:30:42.809Z"
   },
   {
    "duration": 691,
    "start_time": "2023-05-06T16:43:09.722Z"
   },
   {
    "duration": 675,
    "start_time": "2023-05-06T17:02:06.233Z"
   },
   {
    "duration": 532,
    "start_time": "2023-05-06T17:12:18.288Z"
   },
   {
    "duration": 568,
    "start_time": "2023-05-06T17:21:00.864Z"
   },
   {
    "duration": 614,
    "start_time": "2023-05-06T17:22:48.720Z"
   },
   {
    "duration": 3,
    "start_time": "2023-05-06T17:27:08.179Z"
   },
   {
    "duration": 39,
    "start_time": "2023-05-06T17:27:08.183Z"
   },
   {
    "duration": 11,
    "start_time": "2023-05-06T17:27:08.224Z"
   },
   {
    "duration": 32,
    "start_time": "2023-05-06T17:27:08.236Z"
   },
   {
    "duration": 12,
    "start_time": "2023-05-06T17:27:08.270Z"
   },
   {
    "duration": 24,
    "start_time": "2023-05-06T17:27:08.283Z"
   },
   {
    "duration": 10,
    "start_time": "2023-05-06T17:27:08.309Z"
   },
   {
    "duration": 16,
    "start_time": "2023-05-06T17:27:08.321Z"
   },
   {
    "duration": 5,
    "start_time": "2023-05-06T17:27:08.339Z"
   },
   {
    "duration": 11,
    "start_time": "2023-05-06T17:27:08.345Z"
   },
   {
    "duration": 41,
    "start_time": "2023-05-06T17:27:08.358Z"
   },
   {
    "duration": 172,
    "start_time": "2023-05-06T17:27:08.401Z"
   },
   {
    "duration": 108,
    "start_time": "2023-05-06T17:27:08.576Z"
   },
   {
    "duration": 737,
    "start_time": "2023-05-06T17:27:08.693Z"
   },
   {
    "duration": 623,
    "start_time": "2023-05-06T17:27:09.432Z"
   },
   {
    "duration": 631,
    "start_time": "2023-05-06T17:27:11.370Z"
   },
   {
    "duration": 636,
    "start_time": "2023-05-06T17:27:12.002Z"
   },
   {
    "duration": 12,
    "start_time": "2023-05-06T17:35:09.588Z"
   },
   {
    "duration": 19,
    "start_time": "2023-05-06T17:36:23.336Z"
   },
   {
    "duration": 5,
    "start_time": "2023-05-06T17:40:23.807Z"
   },
   {
    "duration": 11,
    "start_time": "2023-05-06T17:40:48.231Z"
   },
   {
    "duration": 10,
    "start_time": "2023-05-06T17:40:59.229Z"
   },
   {
    "duration": 6,
    "start_time": "2023-05-06T17:41:18.103Z"
   },
   {
    "duration": 94,
    "start_time": "2023-05-06T17:41:46.561Z"
   },
   {
    "duration": 6,
    "start_time": "2023-05-06T17:42:27.869Z"
   },
   {
    "duration": 7,
    "start_time": "2023-05-06T17:42:42.373Z"
   },
   {
    "duration": 6,
    "start_time": "2023-05-06T17:42:53.412Z"
   },
   {
    "duration": 6,
    "start_time": "2023-05-06T17:43:23.281Z"
   },
   {
    "duration": 5,
    "start_time": "2023-05-06T17:44:18.250Z"
   },
   {
    "duration": 148,
    "start_time": "2023-05-06T17:45:34.239Z"
   },
   {
    "duration": 3,
    "start_time": "2023-05-06T20:35:44.062Z"
   },
   {
    "duration": 37,
    "start_time": "2023-05-06T20:35:44.067Z"
   },
   {
    "duration": 11,
    "start_time": "2023-05-06T20:35:44.107Z"
   },
   {
    "duration": 34,
    "start_time": "2023-05-06T20:35:44.119Z"
   },
   {
    "duration": 12,
    "start_time": "2023-05-06T20:35:44.156Z"
   },
   {
    "duration": 29,
    "start_time": "2023-05-06T20:35:44.170Z"
   },
   {
    "duration": 9,
    "start_time": "2023-05-06T20:35:44.201Z"
   },
   {
    "duration": 15,
    "start_time": "2023-05-06T20:35:44.212Z"
   },
   {
    "duration": 9,
    "start_time": "2023-05-06T20:35:44.228Z"
   },
   {
    "duration": 12,
    "start_time": "2023-05-06T20:35:44.238Z"
   },
   {
    "duration": 12,
    "start_time": "2023-05-06T20:35:44.251Z"
   },
   {
    "duration": 8,
    "start_time": "2023-05-06T20:35:44.265Z"
   },
   {
    "duration": 147,
    "start_time": "2023-05-06T20:35:44.275Z"
   },
   {
    "duration": 90,
    "start_time": "2023-05-06T20:35:44.425Z"
   },
   {
    "duration": 530,
    "start_time": "2023-05-06T20:35:44.516Z"
   },
   {
    "duration": 535,
    "start_time": "2023-05-06T20:35:45.048Z"
   },
   {
    "duration": 557,
    "start_time": "2023-05-06T20:35:45.585Z"
   },
   {
    "duration": 153,
    "start_time": "2023-05-06T20:35:46.144Z"
   },
   {
    "duration": 18,
    "start_time": "2023-05-06T21:29:39.655Z"
   },
   {
    "duration": 18,
    "start_time": "2023-05-06T21:30:01.016Z"
   },
   {
    "duration": 19,
    "start_time": "2023-05-06T21:30:08.643Z"
   },
   {
    "duration": 10,
    "start_time": "2023-05-06T21:30:24.439Z"
   },
   {
    "duration": 24,
    "start_time": "2023-05-06T21:31:49.572Z"
   },
   {
    "duration": 14,
    "start_time": "2023-05-06T21:32:32.391Z"
   },
   {
    "duration": 22,
    "start_time": "2023-05-06T21:32:45.923Z"
   },
   {
    "duration": 28,
    "start_time": "2023-05-06T21:32:56.980Z"
   },
   {
    "duration": 25,
    "start_time": "2023-05-06T21:33:21.541Z"
   },
   {
    "duration": 29,
    "start_time": "2023-05-06T21:33:49.078Z"
   },
   {
    "duration": 21,
    "start_time": "2023-05-06T21:34:24.122Z"
   },
   {
    "duration": 26,
    "start_time": "2023-05-06T21:34:58.528Z"
   },
   {
    "duration": 29,
    "start_time": "2023-05-06T21:35:19.652Z"
   },
   {
    "duration": 4,
    "start_time": "2023-05-06T21:35:49.624Z"
   },
   {
    "duration": 23,
    "start_time": "2023-05-06T21:35:53.431Z"
   },
   {
    "duration": 12,
    "start_time": "2023-05-06T21:36:04.793Z"
   },
   {
    "duration": 53,
    "start_time": "2023-05-06T21:43:10.392Z"
   },
   {
    "duration": 45,
    "start_time": "2023-05-06T21:43:53.230Z"
   },
   {
    "duration": 26,
    "start_time": "2023-05-06T21:44:08.600Z"
   },
   {
    "duration": 45,
    "start_time": "2023-05-06T21:44:36.509Z"
   },
   {
    "duration": 13,
    "start_time": "2023-05-06T21:44:47.737Z"
   },
   {
    "duration": 8,
    "start_time": "2023-05-06T21:44:59.795Z"
   },
   {
    "duration": 21,
    "start_time": "2023-05-06T21:46:04.093Z"
   },
   {
    "duration": 9,
    "start_time": "2023-05-06T21:46:44.921Z"
   },
   {
    "duration": 8,
    "start_time": "2023-05-06T21:46:56.135Z"
   },
   {
    "duration": 523,
    "start_time": "2023-05-06T21:49:19.536Z"
   },
   {
    "duration": 792,
    "start_time": "2023-05-06T21:49:40.306Z"
   },
   {
    "duration": 826,
    "start_time": "2023-05-06T22:29:06.389Z"
   },
   {
    "duration": 748,
    "start_time": "2023-05-06T22:29:56.328Z"
   },
   {
    "duration": 763,
    "start_time": "2023-05-06T22:38:20.774Z"
   },
   {
    "duration": 5009,
    "start_time": "2023-05-06T22:40:10.855Z"
   },
   {
    "duration": 794,
    "start_time": "2023-05-06T22:44:55.222Z"
   },
   {
    "duration": 1001,
    "start_time": "2023-05-06T22:57:48.001Z"
   },
   {
    "duration": 1001,
    "start_time": "2023-05-06T23:01:03.410Z"
   },
   {
    "duration": 45,
    "start_time": "2023-05-06T23:02:39.113Z"
   },
   {
    "duration": 1031,
    "start_time": "2023-05-06T23:02:48.631Z"
   },
   {
    "duration": 2,
    "start_time": "2023-05-06T23:35:39.174Z"
   },
   {
    "duration": 30,
    "start_time": "2023-05-06T23:35:39.178Z"
   },
   {
    "duration": 10,
    "start_time": "2023-05-06T23:35:39.209Z"
   },
   {
    "duration": 29,
    "start_time": "2023-05-06T23:35:39.220Z"
   },
   {
    "duration": 10,
    "start_time": "2023-05-06T23:35:39.251Z"
   },
   {
    "duration": 18,
    "start_time": "2023-05-06T23:35:39.263Z"
   },
   {
    "duration": 9,
    "start_time": "2023-05-06T23:35:39.282Z"
   },
   {
    "duration": 13,
    "start_time": "2023-05-06T23:35:39.294Z"
   },
   {
    "duration": 4,
    "start_time": "2023-05-06T23:35:39.309Z"
   },
   {
    "duration": 5,
    "start_time": "2023-05-06T23:35:39.315Z"
   },
   {
    "duration": 12,
    "start_time": "2023-05-06T23:35:39.321Z"
   },
   {
    "duration": 8,
    "start_time": "2023-05-06T23:35:39.334Z"
   },
   {
    "duration": 160,
    "start_time": "2023-05-06T23:35:39.343Z"
   },
   {
    "duration": 91,
    "start_time": "2023-05-06T23:35:39.505Z"
   },
   {
    "duration": 547,
    "start_time": "2023-05-06T23:35:39.597Z"
   },
   {
    "duration": 551,
    "start_time": "2023-05-06T23:35:40.146Z"
   },
   {
    "duration": 773,
    "start_time": "2023-05-06T23:35:40.698Z"
   },
   {
    "duration": 164,
    "start_time": "2023-05-06T23:35:41.472Z"
   },
   {
    "duration": 26,
    "start_time": "2023-05-06T23:35:41.638Z"
   },
   {
    "duration": 13,
    "start_time": "2023-05-06T23:35:41.665Z"
   },
   {
    "duration": 10,
    "start_time": "2023-05-06T23:35:41.694Z"
   },
   {
    "duration": 781,
    "start_time": "2023-05-06T23:35:41.705Z"
   },
   {
    "duration": 1149,
    "start_time": "2023-05-06T23:35:42.488Z"
   },
   {
    "duration": 739,
    "start_time": "2023-05-06T23:38:49.392Z"
   },
   {
    "duration": 842,
    "start_time": "2023-05-06T23:38:58.575Z"
   },
   {
    "duration": 1093,
    "start_time": "2023-05-06T23:39:45.414Z"
   },
   {
    "duration": 861,
    "start_time": "2023-05-06T23:41:24.992Z"
   },
   {
    "duration": 711,
    "start_time": "2023-05-06T23:42:29.324Z"
   },
   {
    "duration": 1162,
    "start_time": "2023-05-06T23:44:29.020Z"
   },
   {
    "duration": 828,
    "start_time": "2023-05-06T23:46:57.390Z"
   },
   {
    "duration": 826,
    "start_time": "2023-05-06T23:47:14.554Z"
   },
   {
    "duration": 1454,
    "start_time": "2023-05-06T23:47:26.256Z"
   },
   {
    "duration": 1192,
    "start_time": "2023-05-06T23:48:17.213Z"
   },
   {
    "duration": 772,
    "start_time": "2023-05-06T23:48:50.867Z"
   },
   {
    "duration": 737,
    "start_time": "2023-05-06T23:49:22.932Z"
   },
   {
    "duration": 1045,
    "start_time": "2023-05-06T23:49:43.960Z"
   },
   {
    "duration": 135,
    "start_time": "2023-05-06T23:50:21.231Z"
   },
   {
    "duration": 746,
    "start_time": "2023-05-06T23:50:46.465Z"
   },
   {
    "duration": 1220,
    "start_time": "2023-05-06T23:51:00.775Z"
   },
   {
    "duration": 702,
    "start_time": "2023-05-06T23:51:29.623Z"
   },
   {
    "duration": 136,
    "start_time": "2023-05-07T00:00:13.757Z"
   },
   {
    "duration": 3,
    "start_time": "2023-05-07T00:01:20.176Z"
   },
   {
    "duration": 34,
    "start_time": "2023-05-07T00:01:20.180Z"
   },
   {
    "duration": 9,
    "start_time": "2023-05-07T00:01:20.215Z"
   },
   {
    "duration": 29,
    "start_time": "2023-05-07T00:01:20.225Z"
   },
   {
    "duration": 9,
    "start_time": "2023-05-07T00:01:20.255Z"
   },
   {
    "duration": 21,
    "start_time": "2023-05-07T00:01:20.266Z"
   },
   {
    "duration": 20,
    "start_time": "2023-05-07T00:01:20.288Z"
   },
   {
    "duration": 20,
    "start_time": "2023-05-07T00:01:20.309Z"
   },
   {
    "duration": 7,
    "start_time": "2023-05-07T00:01:20.331Z"
   },
   {
    "duration": 4,
    "start_time": "2023-05-07T00:01:20.340Z"
   },
   {
    "duration": 12,
    "start_time": "2023-05-07T00:01:20.345Z"
   },
   {
    "duration": 9,
    "start_time": "2023-05-07T00:01:20.358Z"
   },
   {
    "duration": 137,
    "start_time": "2023-05-07T00:01:20.369Z"
   },
   {
    "duration": 0,
    "start_time": "2023-05-07T00:01:20.508Z"
   },
   {
    "duration": 0,
    "start_time": "2023-05-07T00:01:20.509Z"
   },
   {
    "duration": 0,
    "start_time": "2023-05-07T00:01:20.510Z"
   },
   {
    "duration": 0,
    "start_time": "2023-05-07T00:01:20.511Z"
   },
   {
    "duration": 0,
    "start_time": "2023-05-07T00:01:20.512Z"
   },
   {
    "duration": 0,
    "start_time": "2023-05-07T00:01:20.513Z"
   },
   {
    "duration": 0,
    "start_time": "2023-05-07T00:01:20.513Z"
   },
   {
    "duration": 0,
    "start_time": "2023-05-07T00:01:20.515Z"
   },
   {
    "duration": 0,
    "start_time": "2023-05-07T00:01:20.515Z"
   },
   {
    "duration": 0,
    "start_time": "2023-05-07T00:01:20.516Z"
   },
   {
    "duration": 6,
    "start_time": "2023-05-07T00:03:17.704Z"
   },
   {
    "duration": 53,
    "start_time": "2023-05-07T00:03:30.490Z"
   },
   {
    "duration": 112,
    "start_time": "2023-05-07T00:03:44.441Z"
   },
   {
    "duration": 117,
    "start_time": "2023-05-07T00:04:19.446Z"
   },
   {
    "duration": 52,
    "start_time": "2023-05-07T00:07:59.226Z"
   },
   {
    "duration": 134,
    "start_time": "2023-05-07T00:09:09.793Z"
   },
   {
    "duration": 51,
    "start_time": "2023-05-07T07:43:57.485Z"
   },
   {
    "duration": 783,
    "start_time": "2023-05-07T07:44:05.886Z"
   },
   {
    "duration": 90,
    "start_time": "2023-05-07T07:44:06.671Z"
   },
   {
    "duration": 11,
    "start_time": "2023-05-07T07:44:06.763Z"
   },
   {
    "duration": 184,
    "start_time": "2023-05-07T07:44:06.775Z"
   },
   {
    "duration": 10,
    "start_time": "2023-05-07T07:44:06.960Z"
   },
   {
    "duration": 64,
    "start_time": "2023-05-07T07:44:06.972Z"
   },
   {
    "duration": 10,
    "start_time": "2023-05-07T07:44:07.037Z"
   },
   {
    "duration": 24,
    "start_time": "2023-05-07T07:44:07.048Z"
   },
   {
    "duration": 4,
    "start_time": "2023-05-07T07:44:07.074Z"
   },
   {
    "duration": 8,
    "start_time": "2023-05-07T07:44:07.079Z"
   },
   {
    "duration": 18,
    "start_time": "2023-05-07T07:44:07.088Z"
   },
   {
    "duration": 10,
    "start_time": "2023-05-07T07:44:07.108Z"
   },
   {
    "duration": 191,
    "start_time": "2023-05-07T07:44:07.119Z"
   },
   {
    "duration": 0,
    "start_time": "2023-05-07T07:44:07.312Z"
   },
   {
    "duration": 0,
    "start_time": "2023-05-07T07:44:07.313Z"
   },
   {
    "duration": 0,
    "start_time": "2023-05-07T07:44:07.314Z"
   },
   {
    "duration": 0,
    "start_time": "2023-05-07T07:44:07.315Z"
   },
   {
    "duration": 0,
    "start_time": "2023-05-07T07:44:07.316Z"
   },
   {
    "duration": 0,
    "start_time": "2023-05-07T07:44:07.317Z"
   },
   {
    "duration": 0,
    "start_time": "2023-05-07T07:44:07.318Z"
   },
   {
    "duration": 0,
    "start_time": "2023-05-07T07:44:07.319Z"
   },
   {
    "duration": 0,
    "start_time": "2023-05-07T07:44:07.320Z"
   },
   {
    "duration": 0,
    "start_time": "2023-05-07T07:44:07.321Z"
   },
   {
    "duration": 135,
    "start_time": "2023-05-07T07:44:51.725Z"
   },
   {
    "duration": 135,
    "start_time": "2023-05-07T07:46:39.537Z"
   },
   {
    "duration": 7,
    "start_time": "2023-05-07T07:47:12.903Z"
   },
   {
    "duration": 2,
    "start_time": "2023-05-07T07:47:21.045Z"
   },
   {
    "duration": 33,
    "start_time": "2023-05-07T07:47:23.781Z"
   },
   {
    "duration": 11,
    "start_time": "2023-05-07T07:47:26.457Z"
   },
   {
    "duration": 42,
    "start_time": "2023-05-07T07:47:30.008Z"
   },
   {
    "duration": 10,
    "start_time": "2023-05-07T07:47:32.660Z"
   },
   {
    "duration": 29,
    "start_time": "2023-05-07T07:47:35.883Z"
   },
   {
    "duration": 11,
    "start_time": "2023-05-07T07:47:37.903Z"
   },
   {
    "duration": 13,
    "start_time": "2023-05-07T07:47:41.112Z"
   },
   {
    "duration": 5,
    "start_time": "2023-05-07T07:47:44.534Z"
   },
   {
    "duration": 4,
    "start_time": "2023-05-07T07:47:46.300Z"
   },
   {
    "duration": 12,
    "start_time": "2023-05-07T07:47:48.528Z"
   },
   {
    "duration": 8,
    "start_time": "2023-05-07T07:47:50.436Z"
   },
   {
    "duration": 139,
    "start_time": "2023-05-07T07:47:53.318Z"
   },
   {
    "duration": 122,
    "start_time": "2023-05-07T07:47:57.073Z"
   },
   {
    "duration": 917,
    "start_time": "2023-05-07T07:48:00.262Z"
   },
   {
    "duration": 836,
    "start_time": "2023-05-07T07:48:04.417Z"
   },
   {
    "duration": 927,
    "start_time": "2023-05-07T07:48:08.802Z"
   },
   {
    "duration": 153,
    "start_time": "2023-05-07T07:48:13.340Z"
   },
   {
    "duration": 25,
    "start_time": "2023-05-07T07:48:16.939Z"
   },
   {
    "duration": 12,
    "start_time": "2023-05-07T07:48:20.127Z"
   },
   {
    "duration": 75,
    "start_time": "2023-05-07T07:48:23.064Z"
   },
   {
    "duration": 1204,
    "start_time": "2023-05-07T07:48:26.233Z"
   },
   {
    "duration": 1318,
    "start_time": "2023-05-07T07:48:30.568Z"
   },
   {
    "duration": 14,
    "start_time": "2023-05-07T07:48:36.089Z"
   },
   {
    "duration": 139,
    "start_time": "2023-05-07T07:49:26.100Z"
   },
   {
    "duration": 140,
    "start_time": "2023-05-07T07:50:22.900Z"
   },
   {
    "duration": 119,
    "start_time": "2023-05-07T07:52:52.202Z"
   },
   {
    "duration": 138,
    "start_time": "2023-05-07T07:54:02.256Z"
   },
   {
    "duration": 134,
    "start_time": "2023-05-07T07:54:25.432Z"
   },
   {
    "duration": 132,
    "start_time": "2023-05-07T07:54:33.110Z"
   },
   {
    "duration": 168,
    "start_time": "2023-05-07T07:55:05.717Z"
   },
   {
    "duration": 96,
    "start_time": "2023-05-07T07:56:00.549Z"
   },
   {
    "duration": 131,
    "start_time": "2023-05-07T07:56:19.917Z"
   },
   {
    "duration": 2,
    "start_time": "2023-05-07T07:59:05.628Z"
   },
   {
    "duration": 6,
    "start_time": "2023-05-07T07:59:23.901Z"
   },
   {
    "duration": 21,
    "start_time": "2023-05-07T07:59:32.900Z"
   },
   {
    "duration": 4,
    "start_time": "2023-05-07T07:59:48.806Z"
   },
   {
    "duration": 8,
    "start_time": "2023-05-07T08:12:02.721Z"
   },
   {
    "duration": 8,
    "start_time": "2023-05-07T08:13:15.306Z"
   },
   {
    "duration": 18,
    "start_time": "2023-05-07T08:14:05.696Z"
   },
   {
    "duration": 8,
    "start_time": "2023-05-07T08:14:38.705Z"
   },
   {
    "duration": 17,
    "start_time": "2023-05-07T08:14:49.357Z"
   },
   {
    "duration": 47,
    "start_time": "2023-05-07T08:16:01.732Z"
   },
   {
    "duration": 16,
    "start_time": "2023-05-07T08:17:19.065Z"
   },
   {
    "duration": 21,
    "start_time": "2023-05-07T08:17:36.066Z"
   },
   {
    "duration": 8,
    "start_time": "2023-05-07T08:21:31.988Z"
   },
   {
    "duration": 15,
    "start_time": "2023-05-07T08:23:19.498Z"
   },
   {
    "duration": 16,
    "start_time": "2023-05-07T08:23:44.531Z"
   },
   {
    "duration": 180,
    "start_time": "2023-05-07T08:26:20.629Z"
   },
   {
    "duration": 23,
    "start_time": "2023-05-07T08:26:30.021Z"
   },
   {
    "duration": 17,
    "start_time": "2023-05-07T08:28:43.111Z"
   },
   {
    "duration": 83,
    "start_time": "2023-05-07T08:29:48.861Z"
   },
   {
    "duration": 18,
    "start_time": "2023-05-07T08:29:55.335Z"
   },
   {
    "duration": 20,
    "start_time": "2023-05-07T08:32:44.308Z"
   },
   {
    "duration": 24,
    "start_time": "2023-05-07T08:34:11.968Z"
   },
   {
    "duration": 18,
    "start_time": "2023-05-07T08:34:49.252Z"
   },
   {
    "duration": 14,
    "start_time": "2023-05-07T08:35:02.179Z"
   },
   {
    "duration": 14,
    "start_time": "2023-05-07T08:35:15.724Z"
   },
   {
    "duration": 18,
    "start_time": "2023-05-07T08:35:40.015Z"
   },
   {
    "duration": 14,
    "start_time": "2023-05-07T08:37:28.596Z"
   },
   {
    "duration": 22,
    "start_time": "2023-05-07T08:37:39.751Z"
   },
   {
    "duration": 13,
    "start_time": "2023-05-07T08:38:05.993Z"
   },
   {
    "duration": 14,
    "start_time": "2023-05-07T08:38:21.213Z"
   },
   {
    "duration": 4,
    "start_time": "2023-05-07T08:39:47.293Z"
   },
   {
    "duration": 18,
    "start_time": "2023-05-07T08:40:53.688Z"
   },
   {
    "duration": 17,
    "start_time": "2023-05-07T08:41:01.690Z"
   },
   {
    "duration": 14,
    "start_time": "2023-05-07T08:52:52.738Z"
   },
   {
    "duration": 16,
    "start_time": "2023-05-07T08:53:13.609Z"
   },
   {
    "duration": 80,
    "start_time": "2023-05-07T08:54:37.850Z"
   },
   {
    "duration": 32,
    "start_time": "2023-05-07T08:54:48.047Z"
   },
   {
    "duration": 20,
    "start_time": "2023-05-07T08:56:56.771Z"
   },
   {
    "duration": 32,
    "start_time": "2023-05-07T08:57:20.745Z"
   },
   {
    "duration": 39,
    "start_time": "2023-05-07T08:58:12.929Z"
   },
   {
    "duration": 27,
    "start_time": "2023-05-07T08:58:19.303Z"
   },
   {
    "duration": 32,
    "start_time": "2023-05-07T08:58:28.182Z"
   },
   {
    "duration": 24,
    "start_time": "2023-05-07T08:58:41.701Z"
   },
   {
    "duration": 27,
    "start_time": "2023-05-07T08:59:07.327Z"
   },
   {
    "duration": 15,
    "start_time": "2023-05-07T08:59:30.539Z"
   },
   {
    "duration": 153,
    "start_time": "2023-05-07T09:00:51.334Z"
   },
   {
    "duration": 25,
    "start_time": "2023-05-07T09:01:20.969Z"
   },
   {
    "duration": 29,
    "start_time": "2023-05-07T09:02:07.020Z"
   },
   {
    "duration": 27,
    "start_time": "2023-05-07T09:02:42.774Z"
   },
   {
    "duration": 34,
    "start_time": "2023-05-07T09:03:34.232Z"
   },
   {
    "duration": 50,
    "start_time": "2023-05-07T09:03:45.327Z"
   },
   {
    "duration": 78,
    "start_time": "2023-05-07T09:04:18.789Z"
   },
   {
    "duration": 131,
    "start_time": "2023-05-07T09:04:43.958Z"
   },
   {
    "duration": 13,
    "start_time": "2023-05-07T09:23:48.136Z"
   },
   {
    "duration": 24,
    "start_time": "2023-05-07T09:24:18.897Z"
   },
   {
    "duration": 23,
    "start_time": "2023-05-07T09:24:45.616Z"
   },
   {
    "duration": 20,
    "start_time": "2023-05-07T09:25:20.075Z"
   },
   {
    "duration": 13,
    "start_time": "2023-05-07T09:34:50.094Z"
   },
   {
    "duration": 4,
    "start_time": "2023-05-07T09:34:56.361Z"
   },
   {
    "duration": 35,
    "start_time": "2023-05-07T09:34:58.413Z"
   },
   {
    "duration": 29,
    "start_time": "2023-05-07T09:44:38.700Z"
   },
   {
    "duration": 39,
    "start_time": "2023-05-07T09:44:53.978Z"
   },
   {
    "duration": 30,
    "start_time": "2023-05-07T09:46:57.128Z"
   },
   {
    "duration": 77,
    "start_time": "2023-05-07T09:47:05.565Z"
   },
   {
    "duration": 33,
    "start_time": "2023-05-07T09:47:13.235Z"
   },
   {
    "duration": 31,
    "start_time": "2023-05-07T09:47:36.368Z"
   },
   {
    "duration": 127,
    "start_time": "2023-05-07T09:58:13.040Z"
   },
   {
    "duration": 68,
    "start_time": "2023-05-07T09:58:27.588Z"
   },
   {
    "duration": 32,
    "start_time": "2023-05-07T09:58:57.244Z"
   },
   {
    "duration": 34,
    "start_time": "2023-05-07T10:00:30.714Z"
   },
   {
    "duration": 33,
    "start_time": "2023-05-07T10:01:15.104Z"
   },
   {
    "duration": 34,
    "start_time": "2023-05-07T10:01:22.504Z"
   },
   {
    "duration": 37,
    "start_time": "2023-05-07T10:01:31.586Z"
   },
   {
    "duration": 2,
    "start_time": "2023-05-07T10:01:35.922Z"
   },
   {
    "duration": 59,
    "start_time": "2023-05-07T10:01:35.927Z"
   },
   {
    "duration": 12,
    "start_time": "2023-05-07T10:01:35.987Z"
   },
   {
    "duration": 46,
    "start_time": "2023-05-07T10:01:36.000Z"
   },
   {
    "duration": 12,
    "start_time": "2023-05-07T10:01:36.048Z"
   },
   {
    "duration": 30,
    "start_time": "2023-05-07T10:01:36.062Z"
   },
   {
    "duration": 27,
    "start_time": "2023-05-07T10:01:36.094Z"
   },
   {
    "duration": 43,
    "start_time": "2023-05-07T10:01:36.123Z"
   },
   {
    "duration": 42,
    "start_time": "2023-05-07T10:01:36.167Z"
   },
   {
    "duration": 34,
    "start_time": "2023-05-07T10:01:36.211Z"
   },
   {
    "duration": 24,
    "start_time": "2023-05-07T10:01:36.247Z"
   },
   {
    "duration": 20,
    "start_time": "2023-05-07T10:01:36.272Z"
   },
   {
    "duration": 159,
    "start_time": "2023-05-07T10:01:36.294Z"
   },
   {
    "duration": 94,
    "start_time": "2023-05-07T10:01:36.456Z"
   },
   {
    "duration": 1027,
    "start_time": "2023-05-07T10:01:36.552Z"
   },
   {
    "duration": 876,
    "start_time": "2023-05-07T10:01:37.580Z"
   },
   {
    "duration": 900,
    "start_time": "2023-05-07T10:01:38.458Z"
   },
   {
    "duration": 162,
    "start_time": "2023-05-07T10:01:39.360Z"
   },
   {
    "duration": 24,
    "start_time": "2023-05-07T10:01:39.524Z"
   },
   {
    "duration": 87,
    "start_time": "2023-05-07T10:01:39.550Z"
   },
   {
    "duration": 23,
    "start_time": "2023-05-07T10:01:39.639Z"
   },
   {
    "duration": 1506,
    "start_time": "2023-05-07T10:01:39.664Z"
   },
   {
    "duration": 1297,
    "start_time": "2023-05-07T10:01:41.172Z"
   },
   {
    "duration": 4,
    "start_time": "2023-05-07T10:01:42.471Z"
   },
   {
    "duration": 60,
    "start_time": "2023-05-07T10:01:42.476Z"
   },
   {
    "duration": 0,
    "start_time": "2023-05-07T10:01:42.537Z"
   },
   {
    "duration": 0,
    "start_time": "2023-05-07T10:01:42.538Z"
   },
   {
    "duration": 32,
    "start_time": "2023-05-07T10:02:15.285Z"
   },
   {
    "duration": 34,
    "start_time": "2023-05-07T10:02:29.442Z"
   },
   {
    "duration": 15,
    "start_time": "2023-05-07T10:05:24.747Z"
   },
   {
    "duration": 3,
    "start_time": "2023-05-07T10:07:13.731Z"
   },
   {
    "duration": 36,
    "start_time": "2023-05-07T10:07:13.735Z"
   },
   {
    "duration": 10,
    "start_time": "2023-05-07T10:07:13.772Z"
   },
   {
    "duration": 43,
    "start_time": "2023-05-07T10:07:13.784Z"
   },
   {
    "duration": 12,
    "start_time": "2023-05-07T10:07:13.829Z"
   },
   {
    "duration": 21,
    "start_time": "2023-05-07T10:07:13.842Z"
   },
   {
    "duration": 10,
    "start_time": "2023-05-07T10:07:13.864Z"
   },
   {
    "duration": 32,
    "start_time": "2023-05-07T10:07:13.876Z"
   },
   {
    "duration": 5,
    "start_time": "2023-05-07T10:07:13.910Z"
   },
   {
    "duration": 6,
    "start_time": "2023-05-07T10:07:13.917Z"
   },
   {
    "duration": 11,
    "start_time": "2023-05-07T10:07:13.925Z"
   },
   {
    "duration": 9,
    "start_time": "2023-05-07T10:07:13.937Z"
   },
   {
    "duration": 168,
    "start_time": "2023-05-07T10:07:13.949Z"
   },
   {
    "duration": 100,
    "start_time": "2023-05-07T10:07:14.119Z"
   },
   {
    "duration": 1045,
    "start_time": "2023-05-07T10:07:14.221Z"
   },
   {
    "duration": 890,
    "start_time": "2023-05-07T10:07:15.269Z"
   },
   {
    "duration": 871,
    "start_time": "2023-05-07T10:07:16.160Z"
   },
   {
    "duration": 168,
    "start_time": "2023-05-07T10:07:17.032Z"
   },
   {
    "duration": 32,
    "start_time": "2023-05-07T10:07:17.202Z"
   },
   {
    "duration": 15,
    "start_time": "2023-05-07T10:07:17.235Z"
   },
   {
    "duration": 45,
    "start_time": "2023-05-07T10:07:17.252Z"
   },
   {
    "duration": 1513,
    "start_time": "2023-05-07T10:07:17.299Z"
   },
   {
    "duration": 1314,
    "start_time": "2023-05-07T10:07:18.813Z"
   },
   {
    "duration": 4,
    "start_time": "2023-05-07T10:07:20.129Z"
   },
   {
    "duration": 28,
    "start_time": "2023-05-07T10:07:20.135Z"
   },
   {
    "duration": 0,
    "start_time": "2023-05-07T10:07:20.165Z"
   },
   {
    "duration": 0,
    "start_time": "2023-05-07T10:07:20.166Z"
   },
   {
    "duration": 11,
    "start_time": "2023-05-07T10:08:35.808Z"
   },
   {
    "duration": 31,
    "start_time": "2023-05-07T10:08:54.397Z"
   },
   {
    "duration": 30,
    "start_time": "2023-05-07T10:09:31.404Z"
   },
   {
    "duration": 31,
    "start_time": "2023-05-07T10:09:37.109Z"
   },
   {
    "duration": 30,
    "start_time": "2023-05-07T10:09:44.084Z"
   },
   {
    "duration": 33,
    "start_time": "2023-05-07T10:10:25.103Z"
   },
   {
    "duration": 496,
    "start_time": "2023-05-07T10:16:01.760Z"
   },
   {
    "duration": 34,
    "start_time": "2023-05-07T10:16:14.196Z"
   },
   {
    "duration": 33,
    "start_time": "2023-05-07T10:18:41.523Z"
   },
   {
    "duration": 17,
    "start_time": "2023-05-07T10:25:18.759Z"
   },
   {
    "duration": 18,
    "start_time": "2023-05-07T10:26:26.372Z"
   },
   {
    "duration": 5,
    "start_time": "2023-05-07T10:26:34.627Z"
   },
   {
    "duration": 426,
    "start_time": "2023-05-07T11:08:41.036Z"
   },
   {
    "duration": 7,
    "start_time": "2023-05-07T11:19:35.418Z"
   },
   {
    "duration": 5,
    "start_time": "2023-05-07T11:23:18.923Z"
   },
   {
    "duration": 6,
    "start_time": "2023-05-07T11:23:38.649Z"
   },
   {
    "duration": 5,
    "start_time": "2023-05-07T11:25:12.361Z"
   },
   {
    "duration": 34,
    "start_time": "2023-05-07T11:50:48.015Z"
   },
   {
    "duration": 7,
    "start_time": "2023-05-07T11:50:59.792Z"
   },
   {
    "duration": 5,
    "start_time": "2023-05-07T11:53:19.679Z"
   },
   {
    "duration": 14,
    "start_time": "2023-05-07T12:02:12.374Z"
   },
   {
    "duration": 13,
    "start_time": "2023-05-07T12:05:37.605Z"
   },
   {
    "duration": 11,
    "start_time": "2023-05-07T12:06:21.647Z"
   },
   {
    "duration": 53,
    "start_time": "2023-05-07T12:18:45.893Z"
   },
   {
    "duration": 18,
    "start_time": "2023-05-07T12:19:20.930Z"
   },
   {
    "duration": 1140,
    "start_time": "2023-05-07T16:28:48.432Z"
   },
   {
    "duration": 105,
    "start_time": "2023-05-07T16:28:49.574Z"
   },
   {
    "duration": 10,
    "start_time": "2023-05-07T16:28:49.680Z"
   },
   {
    "duration": 176,
    "start_time": "2023-05-07T16:28:49.692Z"
   },
   {
    "duration": 9,
    "start_time": "2023-05-07T16:28:49.870Z"
   },
   {
    "duration": 70,
    "start_time": "2023-05-07T16:28:49.880Z"
   },
   {
    "duration": 9,
    "start_time": "2023-05-07T16:28:49.951Z"
   },
   {
    "duration": 13,
    "start_time": "2023-05-07T16:28:49.961Z"
   },
   {
    "duration": 3,
    "start_time": "2023-05-07T16:28:49.975Z"
   },
   {
    "duration": 6,
    "start_time": "2023-05-07T16:28:49.979Z"
   },
   {
    "duration": 9,
    "start_time": "2023-05-07T16:28:49.986Z"
   },
   {
    "duration": 8,
    "start_time": "2023-05-07T16:28:49.996Z"
   },
   {
    "duration": 144,
    "start_time": "2023-05-07T16:28:50.005Z"
   },
   {
    "duration": 82,
    "start_time": "2023-05-07T16:28:50.152Z"
   },
   {
    "duration": 788,
    "start_time": "2023-05-07T16:28:50.235Z"
   },
   {
    "duration": 726,
    "start_time": "2023-05-07T16:28:51.024Z"
   },
   {
    "duration": 783,
    "start_time": "2023-05-07T16:28:51.751Z"
   },
   {
    "duration": 138,
    "start_time": "2023-05-07T16:28:52.535Z"
   },
   {
    "duration": 22,
    "start_time": "2023-05-07T16:28:52.675Z"
   },
   {
    "duration": 12,
    "start_time": "2023-05-07T16:28:52.698Z"
   },
   {
    "duration": 8,
    "start_time": "2023-05-07T16:28:52.712Z"
   },
   {
    "duration": 1078,
    "start_time": "2023-05-07T16:28:52.722Z"
   },
   {
    "duration": 1098,
    "start_time": "2023-05-07T16:28:53.801Z"
   },
   {
    "duration": 3,
    "start_time": "2023-05-07T16:28:54.900Z"
   },
   {
    "duration": 50,
    "start_time": "2023-05-07T16:28:54.905Z"
   },
   {
    "duration": 4,
    "start_time": "2023-05-07T16:28:54.956Z"
   },
   {
    "duration": 11,
    "start_time": "2023-05-07T16:28:54.961Z"
   },
   {
    "duration": 7,
    "start_time": "2023-05-07T16:28:54.973Z"
   },
   {
    "duration": 15,
    "start_time": "2023-05-07T16:28:54.981Z"
   },
   {
    "duration": 16,
    "start_time": "2023-05-07T16:28:54.997Z"
   },
   {
    "duration": 19,
    "start_time": "2023-05-07T16:28:55.014Z"
   },
   {
    "duration": 7,
    "start_time": "2023-05-07T16:28:55.034Z"
   },
   {
    "duration": 3,
    "start_time": "2023-05-07T16:50:34.866Z"
   },
   {
    "duration": 3,
    "start_time": "2023-05-07T16:50:37.971Z"
   },
   {
    "duration": 38,
    "start_time": "2023-05-07T16:50:37.975Z"
   },
   {
    "duration": 8,
    "start_time": "2023-05-07T16:50:38.015Z"
   },
   {
    "duration": 36,
    "start_time": "2023-05-07T16:50:38.025Z"
   },
   {
    "duration": 9,
    "start_time": "2023-05-07T16:50:38.063Z"
   },
   {
    "duration": 23,
    "start_time": "2023-05-07T16:50:38.073Z"
   },
   {
    "duration": 8,
    "start_time": "2023-05-07T16:50:38.097Z"
   },
   {
    "duration": 17,
    "start_time": "2023-05-07T16:50:38.106Z"
   },
   {
    "duration": 4,
    "start_time": "2023-05-07T16:50:38.125Z"
   },
   {
    "duration": 13,
    "start_time": "2023-05-07T16:50:38.130Z"
   },
   {
    "duration": 16,
    "start_time": "2023-05-07T16:50:38.144Z"
   },
   {
    "duration": 7,
    "start_time": "2023-05-07T16:50:38.161Z"
   },
   {
    "duration": 120,
    "start_time": "2023-05-07T16:50:38.169Z"
   },
   {
    "duration": 82,
    "start_time": "2023-05-07T16:50:38.291Z"
   },
   {
    "duration": 761,
    "start_time": "2023-05-07T16:50:38.374Z"
   },
   {
    "duration": 805,
    "start_time": "2023-05-07T16:50:39.136Z"
   },
   {
    "duration": 768,
    "start_time": "2023-05-07T16:50:39.942Z"
   },
   {
    "duration": 135,
    "start_time": "2023-05-07T16:50:40.711Z"
   },
   {
    "duration": 32,
    "start_time": "2023-05-07T16:50:40.847Z"
   },
   {
    "duration": 11,
    "start_time": "2023-05-07T16:50:40.880Z"
   },
   {
    "duration": 9,
    "start_time": "2023-05-07T16:50:40.892Z"
   },
   {
    "duration": 1082,
    "start_time": "2023-05-07T16:50:40.902Z"
   },
   {
    "duration": 1220,
    "start_time": "2023-05-07T16:50:41.986Z"
   },
   {
    "duration": 3,
    "start_time": "2023-05-07T16:50:43.209Z"
   },
   {
    "duration": 34,
    "start_time": "2023-05-07T16:50:43.213Z"
   },
   {
    "duration": 4,
    "start_time": "2023-05-07T16:50:43.248Z"
   },
   {
    "duration": 7,
    "start_time": "2023-05-07T16:50:43.253Z"
   },
   {
    "duration": 4,
    "start_time": "2023-05-07T16:50:43.272Z"
   },
   {
    "duration": 9,
    "start_time": "2023-05-07T16:50:43.277Z"
   },
   {
    "duration": 8,
    "start_time": "2023-05-07T16:50:43.287Z"
   },
   {
    "duration": 12,
    "start_time": "2023-05-07T16:50:43.296Z"
   },
   {
    "duration": 8,
    "start_time": "2023-05-07T16:50:43.309Z"
   },
   {
    "duration": 6,
    "start_time": "2023-05-07T16:58:52.069Z"
   },
   {
    "duration": 4,
    "start_time": "2023-05-07T17:44:10.531Z"
   },
   {
    "duration": 7,
    "start_time": "2023-05-07T17:44:32.894Z"
   },
   {
    "duration": 4,
    "start_time": "2023-05-07T17:46:28.862Z"
   },
   {
    "duration": 4,
    "start_time": "2023-05-07T17:46:36.465Z"
   },
   {
    "duration": 5,
    "start_time": "2023-05-07T17:46:46.038Z"
   },
   {
    "duration": 6,
    "start_time": "2023-05-07T17:54:23.923Z"
   },
   {
    "duration": 5,
    "start_time": "2023-05-07T17:55:01.668Z"
   },
   {
    "duration": 5,
    "start_time": "2023-05-07T17:55:17.751Z"
   },
   {
    "duration": 4,
    "start_time": "2023-05-07T17:55:29.174Z"
   },
   {
    "duration": 4,
    "start_time": "2023-05-07T17:55:35.045Z"
   },
   {
    "duration": 4,
    "start_time": "2023-05-07T17:55:42.722Z"
   },
   {
    "duration": 5,
    "start_time": "2023-05-07T17:56:35.228Z"
   },
   {
    "duration": 5,
    "start_time": "2023-05-07T17:56:42.553Z"
   },
   {
    "duration": 5,
    "start_time": "2023-05-07T17:56:50.910Z"
   },
   {
    "duration": 4,
    "start_time": "2023-05-07T17:56:54.652Z"
   },
   {
    "duration": 6,
    "start_time": "2023-05-07T17:56:58.183Z"
   },
   {
    "duration": 5,
    "start_time": "2023-05-07T17:57:04.454Z"
   },
   {
    "duration": 4,
    "start_time": "2023-05-07T17:57:12.629Z"
   },
   {
    "duration": 5,
    "start_time": "2023-05-07T17:57:16.471Z"
   },
   {
    "duration": 6,
    "start_time": "2023-05-07T17:57:22.898Z"
   },
   {
    "duration": 5,
    "start_time": "2023-05-07T17:57:27.090Z"
   },
   {
    "duration": 4,
    "start_time": "2023-05-07T17:57:30.771Z"
   },
   {
    "duration": 5,
    "start_time": "2023-05-07T17:57:34.312Z"
   },
   {
    "duration": 4,
    "start_time": "2023-05-07T17:57:37.894Z"
   },
   {
    "duration": 4,
    "start_time": "2023-05-07T17:57:40.984Z"
   },
   {
    "duration": 239,
    "start_time": "2023-05-07T18:10:08.643Z"
   },
   {
    "duration": 132,
    "start_time": "2023-05-07T18:10:41.440Z"
   },
   {
    "duration": 1199,
    "start_time": "2023-05-08T06:27:35.139Z"
   },
   {
    "duration": 35,
    "start_time": "2023-05-08T06:27:36.340Z"
   },
   {
    "duration": 12,
    "start_time": "2023-05-08T06:27:36.376Z"
   },
   {
    "duration": 51,
    "start_time": "2023-05-08T06:27:36.390Z"
   },
   {
    "duration": 10,
    "start_time": "2023-05-08T06:27:36.443Z"
   },
   {
    "duration": 22,
    "start_time": "2023-05-08T06:27:36.455Z"
   },
   {
    "duration": 11,
    "start_time": "2023-05-08T06:27:36.478Z"
   },
   {
    "duration": 17,
    "start_time": "2023-05-08T06:27:36.491Z"
   },
   {
    "duration": 4,
    "start_time": "2023-05-08T06:27:36.510Z"
   },
   {
    "duration": 5,
    "start_time": "2023-05-08T06:27:36.518Z"
   },
   {
    "duration": 12,
    "start_time": "2023-05-08T06:27:36.525Z"
   },
   {
    "duration": 9,
    "start_time": "2023-05-08T06:27:36.539Z"
   },
   {
    "duration": 170,
    "start_time": "2023-05-08T06:27:36.586Z"
   },
   {
    "duration": 108,
    "start_time": "2023-05-08T06:27:36.758Z"
   },
   {
    "duration": 895,
    "start_time": "2023-05-08T06:27:36.868Z"
   },
   {
    "duration": 927,
    "start_time": "2023-05-08T06:27:37.765Z"
   },
   {
    "duration": 975,
    "start_time": "2023-05-08T06:27:38.694Z"
   },
   {
    "duration": 174,
    "start_time": "2023-05-08T06:27:39.670Z"
   },
   {
    "duration": 28,
    "start_time": "2023-05-08T06:27:39.846Z"
   },
   {
    "duration": 25,
    "start_time": "2023-05-08T06:27:39.876Z"
   },
   {
    "duration": 11,
    "start_time": "2023-05-08T06:27:39.904Z"
   },
   {
    "duration": 1378,
    "start_time": "2023-05-08T06:27:39.917Z"
   },
   {
    "duration": 1419,
    "start_time": "2023-05-08T06:27:41.296Z"
   },
   {
    "duration": 5,
    "start_time": "2023-05-08T06:27:42.717Z"
   },
   {
    "duration": 76,
    "start_time": "2023-05-08T06:27:42.724Z"
   },
   {
    "duration": 6,
    "start_time": "2023-05-08T06:27:42.803Z"
   },
   {
    "duration": 8,
    "start_time": "2023-05-08T06:27:42.811Z"
   },
   {
    "duration": 5,
    "start_time": "2023-05-08T06:27:42.823Z"
   },
   {
    "duration": 20,
    "start_time": "2023-05-08T06:27:42.830Z"
   },
   {
    "duration": 6,
    "start_time": "2023-05-08T06:27:42.852Z"
   },
   {
    "duration": 37,
    "start_time": "2023-05-08T06:27:42.859Z"
   },
   {
    "duration": 11,
    "start_time": "2023-05-08T06:27:42.898Z"
   },
   {
    "duration": 6,
    "start_time": "2023-05-08T06:27:42.910Z"
   },
   {
    "duration": 8,
    "start_time": "2023-05-08T06:27:42.918Z"
   },
   {
    "duration": 3,
    "start_time": "2023-05-08T06:28:16.948Z"
   },
   {
    "duration": 636,
    "start_time": "2023-05-08T06:33:55.101Z"
   },
   {
    "duration": 858,
    "start_time": "2023-05-08T06:34:04.133Z"
   },
   {
    "duration": 23,
    "start_time": "2023-05-08T07:57:18.888Z"
   },
   {
    "duration": 6,
    "start_time": "2023-05-08T07:57:41.736Z"
   },
   {
    "duration": 1260,
    "start_time": "2023-05-08T08:16:40.197Z"
   },
   {
    "duration": 33,
    "start_time": "2023-05-08T08:16:41.460Z"
   },
   {
    "duration": 13,
    "start_time": "2023-05-08T08:16:41.494Z"
   },
   {
    "duration": 34,
    "start_time": "2023-05-08T08:16:41.509Z"
   },
   {
    "duration": 11,
    "start_time": "2023-05-08T08:16:41.545Z"
   },
   {
    "duration": 32,
    "start_time": "2023-05-08T08:16:41.558Z"
   },
   {
    "duration": 14,
    "start_time": "2023-05-08T08:16:41.592Z"
   },
   {
    "duration": 19,
    "start_time": "2023-05-08T08:16:41.608Z"
   },
   {
    "duration": 6,
    "start_time": "2023-05-08T08:16:41.629Z"
   },
   {
    "duration": 6,
    "start_time": "2023-05-08T08:16:41.639Z"
   },
   {
    "duration": 44,
    "start_time": "2023-05-08T08:16:41.647Z"
   },
   {
    "duration": 10,
    "start_time": "2023-05-08T08:16:41.694Z"
   },
   {
    "duration": 194,
    "start_time": "2023-05-08T08:16:41.706Z"
   },
   {
    "duration": 98,
    "start_time": "2023-05-08T08:16:41.901Z"
   },
   {
    "duration": 888,
    "start_time": "2023-05-08T08:16:42.000Z"
   },
   {
    "duration": 874,
    "start_time": "2023-05-08T08:16:42.890Z"
   },
   {
    "duration": 1023,
    "start_time": "2023-05-08T08:16:43.766Z"
   },
   {
    "duration": 180,
    "start_time": "2023-05-08T08:16:44.791Z"
   },
   {
    "duration": 33,
    "start_time": "2023-05-08T08:16:44.973Z"
   },
   {
    "duration": 24,
    "start_time": "2023-05-08T08:16:45.008Z"
   },
   {
    "duration": 17,
    "start_time": "2023-05-08T08:16:45.034Z"
   },
   {
    "duration": 1290,
    "start_time": "2023-05-08T08:16:45.053Z"
   },
   {
    "duration": 1398,
    "start_time": "2023-05-08T08:16:46.345Z"
   },
   {
    "duration": 4,
    "start_time": "2023-05-08T08:16:47.745Z"
   },
   {
    "duration": 50,
    "start_time": "2023-05-08T08:16:47.751Z"
   },
   {
    "duration": 7,
    "start_time": "2023-05-08T08:16:47.804Z"
   },
   {
    "duration": 26,
    "start_time": "2023-05-08T08:16:47.813Z"
   },
   {
    "duration": 24,
    "start_time": "2023-05-08T08:16:47.842Z"
   },
   {
    "duration": 16,
    "start_time": "2023-05-08T08:16:47.867Z"
   },
   {
    "duration": 16,
    "start_time": "2023-05-08T08:16:47.885Z"
   },
   {
    "duration": 31,
    "start_time": "2023-05-08T08:16:47.903Z"
   },
   {
    "duration": 23,
    "start_time": "2023-05-08T08:16:47.936Z"
   },
   {
    "duration": 32,
    "start_time": "2023-05-08T08:16:47.961Z"
   },
   {
    "duration": 6,
    "start_time": "2023-05-08T08:16:47.995Z"
   },
   {
    "duration": 44,
    "start_time": "2023-05-08T14:55:29.629Z"
   },
   {
    "duration": 1254,
    "start_time": "2023-05-08T14:55:38.010Z"
   },
   {
    "duration": 97,
    "start_time": "2023-05-08T14:55:39.266Z"
   },
   {
    "duration": 11,
    "start_time": "2023-05-08T14:55:39.365Z"
   },
   {
    "duration": 182,
    "start_time": "2023-05-08T14:55:39.377Z"
   },
   {
    "duration": 9,
    "start_time": "2023-05-08T14:55:39.561Z"
   },
   {
    "duration": 74,
    "start_time": "2023-05-08T14:55:39.572Z"
   },
   {
    "duration": 9,
    "start_time": "2023-05-08T14:55:39.648Z"
   },
   {
    "duration": 19,
    "start_time": "2023-05-08T14:55:39.659Z"
   },
   {
    "duration": 5,
    "start_time": "2023-05-08T14:55:39.679Z"
   },
   {
    "duration": 10,
    "start_time": "2023-05-08T14:55:39.685Z"
   },
   {
    "duration": 165,
    "start_time": "2023-05-08T14:55:39.696Z"
   },
   {
    "duration": 10,
    "start_time": "2023-05-08T14:55:39.862Z"
   },
   {
    "duration": 8,
    "start_time": "2023-05-08T14:55:39.873Z"
   },
   {
    "duration": 141,
    "start_time": "2023-05-08T14:55:39.883Z"
   },
   {
    "duration": 78,
    "start_time": "2023-05-08T14:55:40.033Z"
   },
   {
    "duration": 840,
    "start_time": "2023-05-08T14:55:40.113Z"
   },
   {
    "duration": 859,
    "start_time": "2023-05-08T14:55:40.955Z"
   },
   {
    "duration": 846,
    "start_time": "2023-05-08T14:55:41.815Z"
   },
   {
    "duration": 24,
    "start_time": "2023-05-08T14:55:42.662Z"
   },
   {
    "duration": 13,
    "start_time": "2023-05-08T14:55:42.687Z"
   },
   {
    "duration": 10,
    "start_time": "2023-05-08T14:55:42.701Z"
   },
   {
    "duration": 1216,
    "start_time": "2023-05-08T14:55:42.713Z"
   },
   {
    "duration": 1357,
    "start_time": "2023-05-08T14:55:43.930Z"
   },
   {
    "duration": 4,
    "start_time": "2023-05-08T14:55:45.288Z"
   },
   {
    "duration": 49,
    "start_time": "2023-05-08T14:55:45.293Z"
   },
   {
    "duration": 4,
    "start_time": "2023-05-08T14:55:45.344Z"
   },
   {
    "duration": 28,
    "start_time": "2023-05-08T14:55:45.350Z"
   },
   {
    "duration": 15,
    "start_time": "2023-05-08T14:55:45.379Z"
   },
   {
    "duration": 5,
    "start_time": "2023-05-08T14:55:45.395Z"
   },
   {
    "duration": 5,
    "start_time": "2023-05-08T14:55:45.402Z"
   },
   {
    "duration": 19,
    "start_time": "2023-05-08T14:55:45.409Z"
   },
   {
    "duration": 10,
    "start_time": "2023-05-08T14:55:45.429Z"
   },
   {
    "duration": 5,
    "start_time": "2023-05-08T14:55:45.440Z"
   },
   {
    "duration": 13,
    "start_time": "2023-05-08T14:55:45.446Z"
   },
   {
    "duration": 227,
    "start_time": "2023-05-08T15:40:26.454Z"
   },
   {
    "duration": 140,
    "start_time": "2023-05-08T15:40:36.980Z"
   },
   {
    "duration": 173,
    "start_time": "2023-05-08T15:42:11.354Z"
   },
   {
    "duration": 130,
    "start_time": "2023-05-08T15:42:25.062Z"
   },
   {
    "duration": 106,
    "start_time": "2023-05-08T15:44:55.938Z"
   },
   {
    "duration": 102,
    "start_time": "2023-05-08T15:45:05.223Z"
   },
   {
    "duration": 229,
    "start_time": "2023-05-08T15:46:19.069Z"
   },
   {
    "duration": 101,
    "start_time": "2023-05-08T15:46:30.353Z"
   },
   {
    "duration": 131,
    "start_time": "2023-05-08T15:46:41.812Z"
   },
   {
    "duration": 128,
    "start_time": "2023-05-08T15:48:06.086Z"
   },
   {
    "duration": 130,
    "start_time": "2023-05-08T15:48:13.797Z"
   },
   {
    "duration": 120,
    "start_time": "2023-05-08T15:48:40.641Z"
   },
   {
    "duration": 131,
    "start_time": "2023-05-08T15:48:54.667Z"
   },
   {
    "duration": 128,
    "start_time": "2023-05-08T15:49:08.386Z"
   },
   {
    "duration": 125,
    "start_time": "2023-05-08T15:49:16.135Z"
   },
   {
    "duration": 127,
    "start_time": "2023-05-08T15:50:10.200Z"
   },
   {
    "duration": 122,
    "start_time": "2023-05-08T15:50:21.187Z"
   },
   {
    "duration": 115,
    "start_time": "2023-05-08T15:50:28.282Z"
   },
   {
    "duration": 71,
    "start_time": "2023-05-08T15:51:57.821Z"
   },
   {
    "duration": 713,
    "start_time": "2023-05-08T16:03:35.602Z"
   },
   {
    "duration": 694,
    "start_time": "2023-05-08T16:03:46.385Z"
   },
   {
    "duration": 751,
    "start_time": "2023-05-08T16:03:53.698Z"
   },
   {
    "duration": 678,
    "start_time": "2023-05-08T16:04:08.413Z"
   },
   {
    "duration": 795,
    "start_time": "2023-05-08T16:04:14.913Z"
   },
   {
    "duration": 665,
    "start_time": "2023-05-08T16:04:30.052Z"
   },
   {
    "duration": 614,
    "start_time": "2023-05-08T16:04:55.747Z"
   },
   {
    "duration": 706,
    "start_time": "2023-05-08T16:05:05.381Z"
   },
   {
    "duration": 622,
    "start_time": "2023-05-08T16:05:19.762Z"
   },
   {
    "duration": 692,
    "start_time": "2023-05-08T16:05:38.496Z"
   },
   {
    "duration": 663,
    "start_time": "2023-05-08T16:05:46.221Z"
   },
   {
    "duration": 613,
    "start_time": "2023-05-08T16:05:52.265Z"
   },
   {
    "duration": 651,
    "start_time": "2023-05-08T16:05:57.715Z"
   },
   {
    "duration": 694,
    "start_time": "2023-05-08T16:06:11.782Z"
   },
   {
    "duration": 697,
    "start_time": "2023-05-08T16:06:22.395Z"
   },
   {
    "duration": 848,
    "start_time": "2023-05-08T16:07:33.264Z"
   },
   {
    "duration": 775,
    "start_time": "2023-05-08T16:07:49.398Z"
   },
   {
    "duration": 780,
    "start_time": "2023-05-08T16:07:54.728Z"
   },
   {
    "duration": 812,
    "start_time": "2023-05-08T16:08:03.585Z"
   },
   {
    "duration": 699,
    "start_time": "2023-05-08T16:08:17.158Z"
   },
   {
    "duration": 909,
    "start_time": "2023-05-08T16:08:33.089Z"
   },
   {
    "duration": 554,
    "start_time": "2023-05-08T16:08:43.958Z"
   },
   {
    "duration": 482,
    "start_time": "2023-05-08T16:08:53.212Z"
   },
   {
    "duration": 511,
    "start_time": "2023-05-08T16:09:05.807Z"
   },
   {
    "duration": 496,
    "start_time": "2023-05-08T16:09:13.709Z"
   },
   {
    "duration": 483,
    "start_time": "2023-05-08T16:09:20.953Z"
   },
   {
    "duration": 285,
    "start_time": "2023-05-08T16:09:31.308Z"
   },
   {
    "duration": 295,
    "start_time": "2023-05-08T16:09:39.800Z"
   },
   {
    "duration": 261,
    "start_time": "2023-05-08T16:09:46.387Z"
   },
   {
    "duration": 576,
    "start_time": "2023-05-08T16:09:56.850Z"
   },
   {
    "duration": 260,
    "start_time": "2023-05-08T16:10:07.931Z"
   },
   {
    "duration": 698,
    "start_time": "2023-05-08T16:11:41.146Z"
   },
   {
    "duration": 446,
    "start_time": "2023-05-08T16:11:48.530Z"
   },
   {
    "duration": 745,
    "start_time": "2023-05-08T16:11:58.130Z"
   },
   {
    "duration": 433,
    "start_time": "2023-05-08T16:12:03.385Z"
   },
   {
    "duration": 158,
    "start_time": "2023-05-08T16:17:02.877Z"
   },
   {
    "duration": 1583,
    "start_time": "2023-05-08T16:19:04.022Z"
   },
   {
    "duration": 1018,
    "start_time": "2023-05-08T16:19:13.479Z"
   },
   {
    "duration": 929,
    "start_time": "2023-05-08T16:19:21.554Z"
   },
   {
    "duration": 1276,
    "start_time": "2023-05-08T16:19:47.786Z"
   },
   {
    "duration": 43,
    "start_time": "2023-05-08T23:56:05.833Z"
   },
   {
    "duration": 1246,
    "start_time": "2023-05-08T23:56:10.018Z"
   },
   {
    "duration": 95,
    "start_time": "2023-05-08T23:56:11.266Z"
   },
   {
    "duration": 12,
    "start_time": "2023-05-08T23:56:11.362Z"
   },
   {
    "duration": 179,
    "start_time": "2023-05-08T23:56:11.376Z"
   },
   {
    "duration": 9,
    "start_time": "2023-05-08T23:56:11.557Z"
   },
   {
    "duration": 75,
    "start_time": "2023-05-08T23:56:11.568Z"
   },
   {
    "duration": 10,
    "start_time": "2023-05-08T23:56:11.645Z"
   },
   {
    "duration": 19,
    "start_time": "2023-05-08T23:56:11.657Z"
   },
   {
    "duration": 11,
    "start_time": "2023-05-08T23:56:11.677Z"
   },
   {
    "duration": 31,
    "start_time": "2023-05-08T23:56:11.690Z"
   },
   {
    "duration": 206,
    "start_time": "2023-05-08T23:56:11.722Z"
   },
   {
    "duration": 13,
    "start_time": "2023-05-08T23:56:11.929Z"
   },
   {
    "duration": 12,
    "start_time": "2023-05-08T23:56:11.943Z"
   },
   {
    "duration": 127,
    "start_time": "2023-05-08T23:56:11.958Z"
   },
   {
    "duration": 81,
    "start_time": "2023-05-08T23:56:12.087Z"
   },
   {
    "duration": 247,
    "start_time": "2023-05-08T23:56:12.169Z"
   },
   {
    "duration": 378,
    "start_time": "2023-05-08T23:56:12.418Z"
   },
   {
    "duration": 483,
    "start_time": "2023-05-08T23:56:12.797Z"
   },
   {
    "duration": 25,
    "start_time": "2023-05-08T23:56:13.282Z"
   },
   {
    "duration": 26,
    "start_time": "2023-05-08T23:56:13.308Z"
   },
   {
    "duration": 10,
    "start_time": "2023-05-08T23:56:13.336Z"
   },
   {
    "duration": 770,
    "start_time": "2023-05-08T23:56:13.347Z"
   },
   {
    "duration": 926,
    "start_time": "2023-05-08T23:56:14.118Z"
   },
   {
    "duration": 4,
    "start_time": "2023-05-08T23:56:15.046Z"
   },
   {
    "duration": 41,
    "start_time": "2023-05-08T23:56:15.052Z"
   },
   {
    "duration": 764,
    "start_time": "2023-05-08T23:56:15.095Z"
   },
   {
    "duration": 0,
    "start_time": "2023-05-08T23:56:15.861Z"
   },
   {
    "duration": 0,
    "start_time": "2023-05-08T23:56:15.862Z"
   },
   {
    "duration": 0,
    "start_time": "2023-05-08T23:56:15.864Z"
   },
   {
    "duration": 0,
    "start_time": "2023-05-08T23:56:15.865Z"
   },
   {
    "duration": 0,
    "start_time": "2023-05-08T23:56:15.866Z"
   },
   {
    "duration": 0,
    "start_time": "2023-05-08T23:56:15.867Z"
   },
   {
    "duration": 0,
    "start_time": "2023-05-08T23:56:15.869Z"
   },
   {
    "duration": 0,
    "start_time": "2023-05-08T23:56:15.870Z"
   },
   {
    "duration": 0,
    "start_time": "2023-05-08T23:56:15.871Z"
   },
   {
    "duration": 111,
    "start_time": "2023-05-09T00:00:01.013Z"
   },
   {
    "duration": 13,
    "start_time": "2023-05-09T00:01:08.829Z"
   },
   {
    "duration": 4,
    "start_time": "2023-05-09T00:05:46.340Z"
   },
   {
    "duration": 6,
    "start_time": "2023-05-09T00:32:20.620Z"
   },
   {
    "duration": 5,
    "start_time": "2023-05-09T00:32:35.108Z"
   },
   {
    "duration": 13,
    "start_time": "2023-05-09T00:49:42.054Z"
   },
   {
    "duration": 12,
    "start_time": "2023-05-09T00:50:27.815Z"
   },
   {
    "duration": 14,
    "start_time": "2023-05-09T00:50:49.107Z"
   },
   {
    "duration": 120,
    "start_time": "2023-05-09T00:51:29.222Z"
   },
   {
    "duration": 107,
    "start_time": "2023-05-09T00:51:47.842Z"
   },
   {
    "duration": 5,
    "start_time": "2023-05-09T00:52:22.508Z"
   },
   {
    "duration": 13,
    "start_time": "2023-05-09T00:53:26.287Z"
   },
   {
    "duration": 3,
    "start_time": "2023-05-09T00:53:47.065Z"
   },
   {
    "duration": 0,
    "start_time": "2023-05-09T01:08:42.352Z"
   },
   {
    "duration": 0,
    "start_time": "2023-05-09T01:08:42.353Z"
   },
   {
    "duration": 0,
    "start_time": "2023-05-09T01:08:42.354Z"
   },
   {
    "duration": 0,
    "start_time": "2023-05-09T01:08:42.355Z"
   },
   {
    "duration": 0,
    "start_time": "2023-05-09T01:08:42.356Z"
   },
   {
    "duration": 0,
    "start_time": "2023-05-09T01:08:42.357Z"
   },
   {
    "duration": 0,
    "start_time": "2023-05-09T01:08:42.358Z"
   },
   {
    "duration": 0,
    "start_time": "2023-05-09T01:08:42.358Z"
   },
   {
    "duration": 0,
    "start_time": "2023-05-09T01:08:42.359Z"
   },
   {
    "duration": 0,
    "start_time": "2023-05-09T01:08:42.360Z"
   },
   {
    "duration": 0,
    "start_time": "2023-05-09T01:08:42.361Z"
   },
   {
    "duration": 0,
    "start_time": "2023-05-09T01:08:42.362Z"
   },
   {
    "duration": 0,
    "start_time": "2023-05-09T01:08:42.363Z"
   },
   {
    "duration": 0,
    "start_time": "2023-05-09T01:08:42.364Z"
   },
   {
    "duration": 0,
    "start_time": "2023-05-09T01:08:42.365Z"
   },
   {
    "duration": 0,
    "start_time": "2023-05-09T01:08:42.366Z"
   },
   {
    "duration": 0,
    "start_time": "2023-05-09T01:08:42.367Z"
   },
   {
    "duration": 0,
    "start_time": "2023-05-09T01:08:42.368Z"
   },
   {
    "duration": 0,
    "start_time": "2023-05-09T01:08:42.368Z"
   },
   {
    "duration": 0,
    "start_time": "2023-05-09T01:08:42.369Z"
   },
   {
    "duration": 0,
    "start_time": "2023-05-09T01:08:42.370Z"
   },
   {
    "duration": 0,
    "start_time": "2023-05-09T01:08:42.371Z"
   },
   {
    "duration": 0,
    "start_time": "2023-05-09T01:08:42.372Z"
   },
   {
    "duration": 0,
    "start_time": "2023-05-09T01:08:42.373Z"
   },
   {
    "duration": 0,
    "start_time": "2023-05-09T01:08:42.374Z"
   },
   {
    "duration": 1,
    "start_time": "2023-05-09T01:08:42.374Z"
   },
   {
    "duration": 0,
    "start_time": "2023-05-09T01:08:42.375Z"
   },
   {
    "duration": 0,
    "start_time": "2023-05-09T01:08:42.376Z"
   },
   {
    "duration": 0,
    "start_time": "2023-05-09T01:08:42.377Z"
   },
   {
    "duration": 0,
    "start_time": "2023-05-09T01:08:42.434Z"
   },
   {
    "duration": 0,
    "start_time": "2023-05-09T01:08:42.435Z"
   },
   {
    "duration": 0,
    "start_time": "2023-05-09T01:08:42.436Z"
   },
   {
    "duration": 0,
    "start_time": "2023-05-09T01:08:42.438Z"
   },
   {
    "duration": 0,
    "start_time": "2023-05-09T01:08:42.439Z"
   },
   {
    "duration": 0,
    "start_time": "2023-05-09T01:08:42.440Z"
   },
   {
    "duration": 1051,
    "start_time": "2023-05-09T01:08:55.725Z"
   },
   {
    "duration": 37,
    "start_time": "2023-05-09T01:08:56.778Z"
   },
   {
    "duration": 12,
    "start_time": "2023-05-09T01:08:56.817Z"
   },
   {
    "duration": 37,
    "start_time": "2023-05-09T01:08:56.831Z"
   },
   {
    "duration": 11,
    "start_time": "2023-05-09T01:08:56.870Z"
   },
   {
    "duration": 20,
    "start_time": "2023-05-09T01:08:56.883Z"
   },
   {
    "duration": 9,
    "start_time": "2023-05-09T01:08:56.904Z"
   },
   {
    "duration": 16,
    "start_time": "2023-05-09T01:08:56.915Z"
   },
   {
    "duration": 5,
    "start_time": "2023-05-09T01:08:56.934Z"
   },
   {
    "duration": 6,
    "start_time": "2023-05-09T01:08:56.940Z"
   },
   {
    "duration": 179,
    "start_time": "2023-05-09T01:08:56.948Z"
   },
   {
    "duration": 15,
    "start_time": "2023-05-09T01:08:57.129Z"
   },
   {
    "duration": 9,
    "start_time": "2023-05-09T01:08:57.146Z"
   },
   {
    "duration": 172,
    "start_time": "2023-05-09T01:08:57.158Z"
   },
   {
    "duration": 76,
    "start_time": "2023-05-09T01:08:57.334Z"
   },
   {
    "duration": 276,
    "start_time": "2023-05-09T01:08:57.412Z"
   },
   {
    "duration": 377,
    "start_time": "2023-05-09T01:08:57.690Z"
   },
   {
    "duration": 495,
    "start_time": "2023-05-09T01:08:58.069Z"
   },
   {
    "duration": 25,
    "start_time": "2023-05-09T01:08:58.566Z"
   },
   {
    "duration": 13,
    "start_time": "2023-05-09T01:08:58.593Z"
   },
   {
    "duration": 33,
    "start_time": "2023-05-09T01:08:58.608Z"
   },
   {
    "duration": 746,
    "start_time": "2023-05-09T01:08:58.643Z"
   },
   {
    "duration": 926,
    "start_time": "2023-05-09T01:08:59.391Z"
   },
   {
    "duration": 4,
    "start_time": "2023-05-09T01:09:00.318Z"
   },
   {
    "duration": 48,
    "start_time": "2023-05-09T01:09:00.323Z"
   },
   {
    "duration": 14,
    "start_time": "2023-05-09T01:09:00.373Z"
   },
   {
    "duration": 5,
    "start_time": "2023-05-09T01:09:00.388Z"
   },
   {
    "duration": 26,
    "start_time": "2023-05-09T01:09:00.395Z"
   },
   {
    "duration": 17,
    "start_time": "2023-05-09T01:09:00.423Z"
   },
   {
    "duration": 19,
    "start_time": "2023-05-09T01:09:00.442Z"
   },
   {
    "duration": 14,
    "start_time": "2023-05-09T01:09:00.463Z"
   },
   {
    "duration": 23,
    "start_time": "2023-05-09T01:09:00.479Z"
   },
   {
    "duration": 29,
    "start_time": "2023-05-09T01:09:00.504Z"
   },
   {
    "duration": 22,
    "start_time": "2023-05-09T01:09:00.535Z"
   },
   {
    "duration": 1072,
    "start_time": "2023-05-09T01:16:46.003Z"
   },
   {
    "duration": 37,
    "start_time": "2023-05-09T01:16:47.077Z"
   },
   {
    "duration": 11,
    "start_time": "2023-05-09T01:16:47.115Z"
   },
   {
    "duration": 46,
    "start_time": "2023-05-09T01:16:47.127Z"
   },
   {
    "duration": 9,
    "start_time": "2023-05-09T01:16:47.176Z"
   },
   {
    "duration": 18,
    "start_time": "2023-05-09T01:16:47.186Z"
   },
   {
    "duration": 8,
    "start_time": "2023-05-09T01:16:47.206Z"
   },
   {
    "duration": 30,
    "start_time": "2023-05-09T01:16:47.216Z"
   },
   {
    "duration": 4,
    "start_time": "2023-05-09T01:16:47.248Z"
   },
   {
    "duration": 37,
    "start_time": "2023-05-09T01:16:47.253Z"
   },
   {
    "duration": 178,
    "start_time": "2023-05-09T01:16:47.292Z"
   },
   {
    "duration": 10,
    "start_time": "2023-05-09T01:16:47.471Z"
   },
   {
    "duration": 28,
    "start_time": "2023-05-09T01:16:47.482Z"
   },
   {
    "duration": 136,
    "start_time": "2023-05-09T01:16:47.513Z"
   },
   {
    "duration": 70,
    "start_time": "2023-05-09T01:16:47.651Z"
   },
   {
    "duration": 265,
    "start_time": "2023-05-09T01:16:47.723Z"
   },
   {
    "duration": 420,
    "start_time": "2023-05-09T01:16:47.990Z"
   },
   {
    "duration": 508,
    "start_time": "2023-05-09T01:16:48.411Z"
   },
   {
    "duration": 30,
    "start_time": "2023-05-09T01:16:48.921Z"
   },
   {
    "duration": 12,
    "start_time": "2023-05-09T01:16:48.952Z"
   },
   {
    "duration": 9,
    "start_time": "2023-05-09T01:16:48.966Z"
   },
   {
    "duration": 790,
    "start_time": "2023-05-09T01:16:48.976Z"
   },
   {
    "duration": 899,
    "start_time": "2023-05-09T01:16:49.767Z"
   },
   {
    "duration": 4,
    "start_time": "2023-05-09T01:16:50.668Z"
   },
   {
    "duration": 46,
    "start_time": "2023-05-09T01:16:50.673Z"
   },
   {
    "duration": 29,
    "start_time": "2023-05-09T01:16:50.721Z"
   },
   {
    "duration": 5,
    "start_time": "2023-05-09T01:16:50.752Z"
   },
   {
    "duration": 8,
    "start_time": "2023-05-09T01:16:50.759Z"
   },
   {
    "duration": 20,
    "start_time": "2023-05-09T01:16:50.768Z"
   },
   {
    "duration": 6,
    "start_time": "2023-05-09T01:16:50.789Z"
   },
   {
    "duration": 5,
    "start_time": "2023-05-09T01:16:50.797Z"
   },
   {
    "duration": 12,
    "start_time": "2023-05-09T01:16:50.804Z"
   },
   {
    "duration": 29,
    "start_time": "2023-05-09T01:16:50.818Z"
   },
   {
    "duration": 10,
    "start_time": "2023-05-09T01:16:50.849Z"
   },
   {
    "duration": 8,
    "start_time": "2023-05-09T01:16:50.860Z"
   },
   {
    "duration": 1597,
    "start_time": "2023-05-09T06:24:58.616Z"
   },
   {
    "duration": 139,
    "start_time": "2023-05-09T06:25:00.216Z"
   },
   {
    "duration": 19,
    "start_time": "2023-05-09T06:25:00.357Z"
   },
   {
    "duration": 262,
    "start_time": "2023-05-09T06:25:00.379Z"
   },
   {
    "duration": 24,
    "start_time": "2023-05-09T06:25:00.643Z"
   },
   {
    "duration": 142,
    "start_time": "2023-05-09T06:25:00.670Z"
   },
   {
    "duration": 13,
    "start_time": "2023-05-09T06:25:00.814Z"
   },
   {
    "duration": 178,
    "start_time": "2023-05-09T06:25:00.829Z"
   },
   {
    "duration": 170,
    "start_time": "2023-05-09T06:25:01.009Z"
   },
   {
    "duration": 64,
    "start_time": "2023-05-09T06:25:01.183Z"
   },
   {
    "duration": 348,
    "start_time": "2023-05-09T06:25:01.249Z"
   },
   {
    "duration": 13,
    "start_time": "2023-05-09T06:25:01.599Z"
   },
   {
    "duration": 269,
    "start_time": "2023-05-09T06:25:01.615Z"
   },
   {
    "duration": 291,
    "start_time": "2023-05-09T06:25:01.887Z"
   },
   {
    "duration": 122,
    "start_time": "2023-05-09T06:25:02.180Z"
   },
   {
    "duration": 354,
    "start_time": "2023-05-09T06:25:02.305Z"
   },
   {
    "duration": 557,
    "start_time": "2023-05-09T06:25:02.662Z"
   },
   {
    "duration": 716,
    "start_time": "2023-05-09T06:25:03.220Z"
   },
   {
    "duration": 40,
    "start_time": "2023-05-09T06:25:03.939Z"
   },
   {
    "duration": 65,
    "start_time": "2023-05-09T06:25:03.983Z"
   },
   {
    "duration": 66,
    "start_time": "2023-05-09T06:25:04.051Z"
   },
   {
    "duration": 1176,
    "start_time": "2023-05-09T06:25:04.119Z"
   },
   {
    "duration": 1355,
    "start_time": "2023-05-09T06:25:05.297Z"
   },
   {
    "duration": 13,
    "start_time": "2023-05-09T06:25:06.663Z"
   },
   {
    "duration": 119,
    "start_time": "2023-05-09T06:25:06.678Z"
   },
   {
    "duration": 19,
    "start_time": "2023-05-09T06:25:06.799Z"
   },
   {
    "duration": 11,
    "start_time": "2023-05-09T06:25:06.820Z"
   },
   {
    "duration": 53,
    "start_time": "2023-05-09T06:25:06.834Z"
   },
   {
    "duration": 22,
    "start_time": "2023-05-09T06:25:06.889Z"
   },
   {
    "duration": 18,
    "start_time": "2023-05-09T06:25:06.912Z"
   },
   {
    "duration": 55,
    "start_time": "2023-05-09T06:25:06.931Z"
   },
   {
    "duration": 25,
    "start_time": "2023-05-09T06:25:06.988Z"
   },
   {
    "duration": 64,
    "start_time": "2023-05-09T06:25:07.015Z"
   },
   {
    "duration": 34,
    "start_time": "2023-05-09T06:25:07.081Z"
   },
   {
    "duration": 124,
    "start_time": "2023-05-09T06:25:07.117Z"
   }
  ],
  "kernelspec": {
   "display_name": "Python 3 (ipykernel)",
   "language": "python",
   "name": "python3"
  },
  "language_info": {
   "codemirror_mode": {
    "name": "ipython",
    "version": 3
   },
   "file_extension": ".py",
   "mimetype": "text/x-python",
   "name": "python",
   "nbconvert_exporter": "python",
   "pygments_lexer": "ipython3",
   "version": "3.9.5"
  },
  "toc": {
   "base_numbering": 1,
   "nav_menu": {
    "height": "219px",
    "width": "323px"
   },
   "number_sections": true,
   "sideBar": true,
   "skip_h1_title": true,
   "title_cell": "Table of Contents",
   "title_sidebar": "Contents",
   "toc_cell": false,
   "toc_position": {},
   "toc_section_display": true,
   "toc_window_display": true
  }
 },
 "nbformat": 4,
 "nbformat_minor": 5
}
